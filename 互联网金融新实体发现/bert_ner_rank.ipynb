{
 "cells": [
  {
   "cell_type": "markdown",
   "metadata": {},
   "source": [
    "# 基于bert的ner"
   ]
  },
  {
   "cell_type": "code",
   "execution_count": 1,
   "metadata": {
    "ExecuteTime": {
     "end_time": "2019-09-05T03:01:07.925298Z",
     "start_time": "2019-09-05T03:01:05.982504Z"
    }
   },
   "outputs": [
    {
     "name": "stderr",
     "output_type": "stream",
     "text": [
      "Using TensorFlow backend.\n"
     ]
    }
   ],
   "source": [
    "import os\n",
    "os.environ[\"CUDA_VISIBLE_DEVICES\"] = \"5\"\n",
    "os.environ['TF_CPP_MIN_LOG_LEVEL'] = \"3\"\n",
    "import codecs\n",
    "import re\n",
    "import random\n",
    "import string\n",
    "from tqdm import tqdm\n",
    "import pandas as pd\n",
    "import numpy as np\n",
    "from zhon.hanzi import punctuation\n",
    "from sklearn.model_selection import train_test_split\n",
    "from keras_bert import load_trained_model_from_checkpoint, Tokenizer\n",
    "from keras_contrib.layers import CRF\n",
    "import tensorflow as tf\n",
    "import keras\n",
    "import matplotlib.pyplot as plt\n",
    "from seqeval.metrics import precision_score, recall_score, f1_score, classification_report\n",
    "%matplotlib inline\n",
    "tf.logging.set_verbosity(tf.logging.ERROR)"
   ]
  },
  {
   "cell_type": "markdown",
   "metadata": {
    "ExecuteTime": {
     "end_time": "2019-09-05T00:34:46.972232Z",
     "start_time": "2019-09-05T00:34:46.967863Z"
    }
   },
   "source": [
    "## 读取数据"
   ]
  },
  {
   "cell_type": "code",
   "execution_count": 2,
   "metadata": {
    "ExecuteTime": {
     "end_time": "2019-09-05T03:01:07.931254Z",
     "start_time": "2019-09-05T03:01:07.928006Z"
    }
   },
   "outputs": [],
   "source": [
    "# 数据路径\n",
    "train_path = \"/home/wangwei/tf_workdir/word_detect/data/Train_Data.csv\"\n",
    "test_path = \"/home/wangwei/tf_workdir/word_detect/data/Test_Data.csv\"\n",
    "submit_path = \"/home/wangwei/tf_workdir/word_detect/data/Submit_Example_Data.csv\""
   ]
  },
  {
   "cell_type": "markdown",
   "metadata": {},
   "source": [
    "### 缺失值填充和删除"
   ]
  },
  {
   "cell_type": "code",
   "execution_count": 137,
   "metadata": {
    "ExecuteTime": {
     "end_time": "2019-09-05T05:52:09.856878Z",
     "start_time": "2019-09-05T05:52:09.495247Z"
    }
   },
   "outputs": [],
   "source": [
    "# 开始合并数据\n",
    "df_train = pd.read_csv(train_path, header=0, encoding='utf-8')\n",
    "# 对缺失值进行处理\n",
    "df_train[\"title\"] = df_train[\"title\"].fillna('')\n",
    "df_train[\"text\"] = df_train[\"text\"].fillna('')\n",
    "df_train = df_train[df_train[\"unknownEntities\"].notnull()]  # 剔除没有新词的行(剔除了300个，数量有点大)\n",
    "\n",
    "df_test = pd.read_csv(test_path, header=0, encoding='utf-8')\n",
    "df_test[\"title\"] = df_test[\"title\"].fillna('')\n",
    "df_test[\"text\"] = df_test[\"text\"].fillna('')"
   ]
  },
  {
   "cell_type": "markdown",
   "metadata": {},
   "source": [
    "## 数据预处理"
   ]
  },
  {
   "cell_type": "markdown",
   "metadata": {},
   "source": [
    "### 定义正则表达式的pattern"
   ]
  },
  {
   "cell_type": "code",
   "execution_count": 4,
   "metadata": {
    "ExecuteTime": {
     "end_time": "2019-09-05T03:01:08.306580Z",
     "start_time": "2019-09-05T03:01:08.299173Z"
    }
   },
   "outputs": [],
   "source": [
    "## 数据预处理\n",
    "pattern1 = re.compile(r'http[s]?://(?:[a-zA-Z]|[0-9]|[$-_@.&+]|[!*\\(\\),]|(?:%[0-9a-fA-F][0-9a-fA-F]))+') # 剔除链接\n",
    "pattern2 = re.compile(\"\\{IMG.*?\\}\") # 剔除{IMG:1}{IMG:2}等等\n",
    "# pattern3 = re.compile(\"（.*?\\）\") # 剔除括号等等\n",
    "pattern4 = re.compile(\"《.*?\\》\") # 剔除括号等等\n",
    "pattern5 = re.compile(\"【.*?】\") # 删除括号内容\n",
    "pattern6 = re.compile(\"\\?+\")    # 删除多个问号\n",
    "pattern7 = re.compile(\"[\\w!#$%&'*+/=?^_`{|}~-]+(?:\\.[\\w!#$%&'*+/=?^_`{|}~-]+)*@(?:[\\w](?:[\\w-]*[\\w])?\\.)+[\\w](?:[\\w-]*[\\w])?\")    # 邮箱\n",
    "pattern8 = re.compile(\"0\\d{2}-\\d{8}|0\\d{3}-\\d{7}|\\d{5}-\\d{5}\")  # 剔除电话\n",
    "pattern9 = re.compile(\"(20\\d{2}([\\.\\-/|年月\\s]{1,3}\\d{1,2}){2}日?(\\s?\\d{2}:\\d{2}(:\\d{2})?)?)|(\\d{1,2}\\s?(分钟|小时|天)前)\") # 日期\n",
    "pattern10 = re.compile(\"<.*?>\")\n",
    "pattern = [pattern1, pattern2, pattern4, pattern5, pattern6, pattern7, pattern8, pattern9, pattern10]"
   ]
  },
  {
   "cell_type": "markdown",
   "metadata": {},
   "source": [
    "### 定义各种数据处理函数"
   ]
  },
  {
   "cell_type": "code",
   "execution_count": 5,
   "metadata": {
    "ExecuteTime": {
     "end_time": "2019-09-05T03:01:08.322783Z",
     "start_time": "2019-09-05T03:01:08.309257Z"
    }
   },
   "outputs": [],
   "source": [
    "def clean_zh(text):\n",
    "    '''清洗文本，保证语句通顺(关于小数点的问题无法处理)'''\n",
    "    text = text.replace(\"（\", \"(\").replace(\"）\", \")\")\n",
    "    punct = string.punctuation + punctuation\n",
    "    punct = \"\".join([c for c in punct if c not in [\".\", \"、\", \"%\", \"“\", \"”\", \"(\", \")\", \"！\", \"。\", \"？\"]])\n",
    "    text = re.sub(r\"[%s]+\" % punct, \" \", text)\n",
    "    # 将引号替换\n",
    "    text = re.sub(r\"[%s]+\" % \"“”()\", \"\", text)\n",
    "    text = re.sub(r\"[%s]+\" % \"：\", \" \", text)\n",
    "    # 多个空格替换成一个\n",
    "    text = re.sub(' +', ' ', text)\n",
    "    return text\n",
    "\n",
    "def clean_data(text):\n",
    "    \"\"\"清理各种脏数据\"\"\"\n",
    "    for p in pattern:\n",
    "        text = re.sub(p, \"\", text)\n",
    "    text = clean_zh(text)\n",
    "    return text\n",
    "\n",
    "def clean_label(label):\n",
    "    \"\"\"对标签进行清洗\"\"\"\n",
    "    label_list = []\n",
    "    label = re.sub(pattern6, \"\", label)\n",
    "    # 替换\n",
    "    label = label.replace(\"（\", \"(\").replace(\"）\", \")\")\n",
    "    label = re.sub(r\"[%s]+\" % \"()\", \"\", label)\n",
    "    return label\n",
    "\n",
    "def is_contain(col, words):\n",
    "    words_list = words.split(\";\")  # 多个实体\n",
    "    length = len(words_list)\n",
    "    flag = []\n",
    "    for word in words_list:\n",
    "        if word in col:\n",
    "            flag.append(1)\n",
    "    if len(flag) == length:\n",
    "        return 1\n",
    "    else:\n",
    "        return 0\n",
    "    \n",
    "def title_contain(col, words):\n",
    "    words_list = words.split(\";\")  # 多个实体\n",
    "    flag = 0 \n",
    "    for word in words_list:\n",
    "        if word in col:\n",
    "            flag = 1\n",
    "    return flag\n",
    "\n",
    "# 由于每个句子较长，这里只去包含新词实体的句子\n",
    "def get_sentence(text, words):\n",
    "    \"\"\"缩小数据规模\"\"\"\n",
    "    new_str = []\n",
    "    # 按照多个分隔符进行分割\n",
    "    sentences = re.split(\"。|！|？\", text.strip())\n",
    "    words_list = words.split(\";\")   # 多个实体\n",
    "    for sent in sentences:\n",
    "        for word in words_list:\n",
    "            if word in sent and sent not in new_str:\n",
    "                new_str.append(sent)\n",
    "    return \"。\".join(new_str)"
   ]
  },
  {
   "cell_type": "markdown",
   "metadata": {},
   "source": [
    "### 开始数据处理"
   ]
  },
  {
   "cell_type": "code",
   "execution_count": 6,
   "metadata": {
    "ExecuteTime": {
     "end_time": "2019-09-05T03:01:12.957065Z",
     "start_time": "2019-09-05T03:01:08.324560Z"
    }
   },
   "outputs": [],
   "source": [
    "df_train[\"title\"] = df_train[\"title\"].map(lambda x: clean_data(x))\n",
    "df_train[\"text\"] = df_train[\"text\"].map(lambda x: clean_data(x))\n",
    "df_train[\"unknownEntities\"] = df_train[\"unknownEntities\"].map(lambda x: clean_label(x))"
   ]
  },
  {
   "cell_type": "code",
   "execution_count": 7,
   "metadata": {
    "ExecuteTime": {
     "end_time": "2019-09-05T03:01:13.170263Z",
     "start_time": "2019-09-05T03:01:12.959642Z"
    }
   },
   "outputs": [],
   "source": [
    "df_train['text_flag'] = df_train[['text','unknownEntities']].apply(lambda x: is_contain(*x), axis=1)\n",
    "df_train['title_flag'] = df_train[['title','unknownEntities']].apply(lambda x: title_contain(*x), axis=1)"
   ]
  },
  {
   "cell_type": "code",
   "execution_count": 8,
   "metadata": {
    "ExecuteTime": {
     "end_time": "2019-09-05T03:01:13.179781Z",
     "start_time": "2019-09-05T03:01:13.172991Z"
    }
   },
   "outputs": [],
   "source": [
    "# 这里剔除样本数据\n",
    "df_train = df_train[(df_train['text_flag'] == 1 ) | (df_train['title_flag'] == 1)]"
   ]
  },
  {
   "cell_type": "markdown",
   "metadata": {},
   "source": [
    "### 定义词汇和标注函数"
   ]
  },
  {
   "cell_type": "code",
   "execution_count": 9,
   "metadata": {
    "ExecuteTime": {
     "end_time": "2019-09-05T03:01:13.188170Z",
     "start_time": "2019-09-05T03:01:13.181941Z"
    }
   },
   "outputs": [],
   "source": [
    "# 定义tag词汇\n",
    "tags = [\"O\", \"B\", \"I\"]\n",
    "tag2idx = {tag: i+1 for i, tag in enumerate(tags)}\n",
    "tag2idx[\"-PAD-\"] = 0\n",
    "n_tags = len(tag2idx)"
   ]
  },
  {
   "cell_type": "code",
   "execution_count": 10,
   "metadata": {
    "ExecuteTime": {
     "end_time": "2019-09-05T03:01:13.198758Z",
     "start_time": "2019-09-05T03:01:13.190064Z"
    }
   },
   "outputs": [],
   "source": [
    "# 按照句长进行实体标注\n",
    "def remark_tag(text, words):\n",
    "    \"\"\"多个实体进行标注\"\"\"\n",
    "    tag_list = [\"O\"] * len(text)\n",
    "    words_list = words.split(\";\")  # 多个实体\n",
    "    for word in words_list:\n",
    "        # 获取字符串在文本出现的所有下标\n",
    "        start_index = [w.start() for w in re.finditer(word, text)]\n",
    "        for index in start_index:\n",
    "            tag_list[index] = \"B\"\n",
    "            tag_list[(index + 1): (index + len(word))] = [\"I\"] * (len(word) - 1)\n",
    "    assert len(text) == len(tag_list)\n",
    "    return tag_list"
   ]
  },
  {
   "cell_type": "markdown",
   "metadata": {},
   "source": [
    "## bert部分"
   ]
  },
  {
   "cell_type": "markdown",
   "metadata": {},
   "source": [
    "### bert的存储路径"
   ]
  },
  {
   "cell_type": "code",
   "execution_count": 11,
   "metadata": {
    "ExecuteTime": {
     "end_time": "2019-09-05T03:01:13.208855Z",
     "start_time": "2019-09-05T03:01:13.200636Z"
    }
   },
   "outputs": [],
   "source": [
    "config_path = \"/home/wangwei/pretrain_data/bert/chinese_L-12_H-768_A-12/bert_config.json\"\n",
    "checkpoint_path = \"/home/wangwei/pretrain_data/bert/chinese_L-12_H-768_A-12/bert_model.ckpt\"\n",
    "dict_path = \"/home/wangwei/pretrain_data/bert/chinese_L-12_H-768_A-12/vocab.txt\""
   ]
  },
  {
   "cell_type": "markdown",
   "metadata": {},
   "source": [
    "### 自定义tokenizer"
   ]
  },
  {
   "cell_type": "code",
   "execution_count": 12,
   "metadata": {
    "ExecuteTime": {
     "end_time": "2019-09-05T03:01:13.260428Z",
     "start_time": "2019-09-05T03:01:13.210861Z"
    }
   },
   "outputs": [],
   "source": [
    "# 词汇表\n",
    "token_dict = {}\n",
    "with codecs.open(dict_path, \"r\", encoding=\"utf-8\") as f:\n",
    "    for line in f:\n",
    "        token = line.strip()\n",
    "        token_dict[token] = len(token_dict)\n",
    "\n",
    "class OurTokenizer(Tokenizer):\n",
    "    def _tokenize(self, text):\n",
    "        R = []\n",
    "        for c in text:\n",
    "            if c in self._token_dict:\n",
    "                R.append(c)\n",
    "            elif self._is_space(c):\n",
    "                R.append('[unused1]')  # space类用未经训练的[unused1]表示\n",
    "            else:\n",
    "                R.append('[UNK]')  # 剩余的字符是[UNK]\n",
    "        return R"
   ]
  },
  {
   "cell_type": "markdown",
   "metadata": {},
   "source": [
    "### 加载bert权重和网络结构"
   ]
  },
  {
   "cell_type": "code",
   "execution_count": 13,
   "metadata": {
    "ExecuteTime": {
     "end_time": "2019-09-05T03:01:33.176152Z",
     "start_time": "2019-09-05T03:01:13.262378Z"
    }
   },
   "outputs": [],
   "source": [
    "tokenizer = OurTokenizer(token_dict)\n",
    "bert_model = load_trained_model_from_checkpoint(config_path, checkpoint_path, seq_len=None)"
   ]
  },
  {
   "cell_type": "code",
   "execution_count": 14,
   "metadata": {
    "ExecuteTime": {
     "end_time": "2019-09-05T03:01:33.184574Z",
     "start_time": "2019-09-05T03:01:33.178373Z"
    }
   },
   "outputs": [
    {
     "data": {
      "text/plain": [
       "[<tf.Tensor 'Encoder-12-FeedForward-Norm/add_1:0' shape=(?, ?, 768) dtype=float32>]"
      ]
     },
     "execution_count": 14,
     "metadata": {},
     "output_type": "execute_result"
    }
   ],
   "source": [
    "bert_model.outputs"
   ]
  },
  {
   "cell_type": "markdown",
   "metadata": {},
   "source": [
    "### 生成训练集和验证集，以及测试集"
   ]
  },
  {
   "cell_type": "code",
   "execution_count": 15,
   "metadata": {
    "ExecuteTime": {
     "end_time": "2019-09-05T03:01:33.199050Z",
     "start_time": "2019-09-05T03:01:33.187423Z"
    }
   },
   "outputs": [],
   "source": [
    "# 获取数据\n",
    "def get_train_data():\n",
    "    train_data = []\n",
    "    n2id = []\n",
    "    for id, t, c, e, text_flag, title_flag in zip(df_train[\"id\"], df_train[\"title\"], df_train[\"text\"], df_train[\"unknownEntities\"], df_train['text_flag'], df_train['title_flag']):\n",
    "        if text_flag == 1:\n",
    "            c = get_sentence(c, e)\n",
    "        else:\n",
    "            c = get_sentence(t, e)\n",
    "        # 实体标注\n",
    "        try:\n",
    "            n = remark_tag(c, e)\n",
    "            n2id = [list(map(lambda x: tag2idx[x], sample)) for sample in n]\n",
    "        except Exception as e:\n",
    "            print(c)\n",
    "            print(e)\n",
    "            print(\"*\"*50)\n",
    "        train_data.append((id, c, n2id))\n",
    "    return train_data"
   ]
  },
  {
   "cell_type": "code",
   "execution_count": 16,
   "metadata": {
    "ExecuteTime": {
     "end_time": "2019-09-05T03:02:37.806123Z",
     "start_time": "2019-09-05T03:02:35.382861Z"
    }
   },
   "outputs": [],
   "source": [
    "train_data = get_train_data()"
   ]
  },
  {
   "cell_type": "code",
   "execution_count": 17,
   "metadata": {
    "ExecuteTime": {
     "end_time": "2019-09-05T03:02:42.246000Z",
     "start_time": "2019-09-05T03:02:42.233730Z"
    }
   },
   "outputs": [
    {
     "data": {
      "text/plain": [
       "(4433, (4433, 6))"
      ]
     },
     "execution_count": 17,
     "metadata": {},
     "output_type": "execute_result"
    }
   ],
   "source": [
    "len(train_data), df_train.shape"
   ]
  },
  {
   "cell_type": "code",
   "execution_count": 18,
   "metadata": {
    "ExecuteTime": {
     "end_time": "2019-09-05T03:02:57.354976Z",
     "start_time": "2019-09-05T03:02:57.348517Z"
    }
   },
   "outputs": [
    {
     "name": "stdout",
     "output_type": "stream",
     "text": [
      "('83dcefb7', '揭秘趣步骗局 趣步是什么 趣步是怎么赚钱的。趣步公司可靠吗。趣步合法吗。相信是众多小伙伴最关心的话题 今天小编就来给大家揭开趣步这面丑恶且神秘的面纱 让小伙伴们看清事情的真相。接下来 我用简单的文字 给大家详细剖析一下趣步公司及趣步app的逻辑到底是什么样的', [[1], [1], [2], [3], [1], [1], [1], [2], [3], [1], [1], [1], [1], [2], [3], [1], [1], [1], [1], [1], [1], [1], [2], [3], [1], [1], [1], [1], [1], [1], [2], [3], [1], [1], [1], [1], [1], [1], [1], [1], [1], [1], [1], [1], [1], [1], [1], [1], [1], [1], [1], [1], [1], [1], [1], [1], [1], [1], [1], [1], [1], [1], [2], [3], [1], [1], [1], [1], [1], [1], [1], [1], [1], [1], [1], [1], [1], [1], [1], [1], [1], [1], [1], [1], [1], [1], [1], [1], [1], [1], [1], [1], [1], [1], [1], [1], [1], [1], [1], [1], [1], [1], [1], [1], [1], [1], [1], [1], [1], [2], [3], [1], [1], [1], [2], [3], [1], [1], [1], [1], [1], [1], [1], [1], [1], [1], [1], [1], [1]])\n"
     ]
    }
   ],
   "source": [
    "print(train_data[0])"
   ]
  },
  {
   "cell_type": "code",
   "execution_count": 19,
   "metadata": {
    "ExecuteTime": {
     "end_time": "2019-09-05T03:03:16.293368Z",
     "start_time": "2019-09-05T03:03:16.286409Z"
    }
   },
   "outputs": [
    {
     "data": {
      "text/plain": [
       "(129, 129)"
      ]
     },
     "execution_count": 19,
     "metadata": {},
     "output_type": "execute_result"
    }
   ],
   "source": [
    "len(train_data[0][1]),len(train_data[0][2])"
   ]
  },
  {
   "cell_type": "code",
   "execution_count": 20,
   "metadata": {
    "ExecuteTime": {
     "end_time": "2019-09-05T03:03:50.637720Z",
     "start_time": "2019-09-05T03:03:49.422549Z"
    }
   },
   "outputs": [],
   "source": [
    "id_, text_id, X1, X2, Y = [], [], [], [], []\n",
    "maxlen = 512\n",
    "for i in range(len(train_data)):\n",
    "    d = train_data[i]\n",
    "    text = d[1][:maxlen]\n",
    "    y = d[2][:maxlen]\n",
    "    x1, x2 = tokenizer.encode(first=text)\n",
    "    X1.append(x1)\n",
    "    X2.append(x2)\n",
    "    Y.append(y)\n",
    "    id_.append([i])\n",
    "    text_id.append([d[0]])\n",
    "X1 = keras.preprocessing.sequence.pad_sequences(maxlen=maxlen, sequences=X1, padding=\"post\", value=0)\n",
    "X2 = keras.preprocessing.sequence.pad_sequences(maxlen=maxlen, sequences=X2, padding=\"post\", value=0)\n",
    "Y = keras.preprocessing.sequence.pad_sequences(maxlen=maxlen, sequences=Y, padding=\"post\", value=0)\n",
    "Y = [keras.preprocessing.utils.to_categorical(i, num_classes=n_tags) for i in Y]"
   ]
  },
  {
   "cell_type": "code",
   "execution_count": 21,
   "metadata": {
    "ExecuteTime": {
     "end_time": "2019-09-05T03:04:01.341080Z",
     "start_time": "2019-09-05T03:04:01.332279Z"
    }
   },
   "outputs": [
    {
     "data": {
      "text/plain": [
       "(4433, 4433, (4433, 512), (4433, 512), 4433, (512, 4))"
      ]
     },
     "execution_count": 21,
     "metadata": {},
     "output_type": "execute_result"
    }
   ],
   "source": [
    "len(id_), len(text_id), X1.shape, X2.shape, len(Y), Y[0].shape"
   ]
  },
  {
   "cell_type": "code",
   "execution_count": 22,
   "metadata": {
    "ExecuteTime": {
     "end_time": "2019-09-05T03:04:37.519193Z",
     "start_time": "2019-09-05T03:04:37.495329Z"
    }
   },
   "outputs": [],
   "source": [
    "id_train, id_test, text_id_train, text_id_test, X1_train,  X1_test, X2_train,  X2_test, Y_train, Y_test = train_test_split(id_, text_id, X1, X2, Y, test_size=0.1)"
   ]
  },
  {
   "cell_type": "code",
   "execution_count": 23,
   "metadata": {
    "ExecuteTime": {
     "end_time": "2019-09-05T03:04:44.349231Z",
     "start_time": "2019-09-05T03:04:44.339623Z"
    }
   },
   "outputs": [
    {
     "data": {
      "text/plain": [
       "(3989,\n",
       " 444,\n",
       " 3989,\n",
       " 444,\n",
       " (3989, 512),\n",
       " (444, 512),\n",
       " (3989, 512),\n",
       " (444, 512),\n",
       " 3989,\n",
       " 444)"
      ]
     },
     "execution_count": 23,
     "metadata": {},
     "output_type": "execute_result"
    }
   ],
   "source": [
    "len(id_train), len(id_test), len(text_id_train), len(text_id_test), X1_train.shape, X1_test.shape, X2_train.shape, X2_test.shape, len(Y_train), len(Y_test)"
   ]
  },
  {
   "cell_type": "code",
   "execution_count": 24,
   "metadata": {
    "ExecuteTime": {
     "end_time": "2019-09-05T03:05:14.078915Z",
     "start_time": "2019-09-05T03:05:14.070738Z"
    }
   },
   "outputs": [
    {
     "data": {
      "text/plain": [
       "948"
      ]
     },
     "execution_count": 24,
     "metadata": {},
     "output_type": "execute_result"
    }
   ],
   "source": [
    "s_id = random.sample(range(len(id_train)), 1)[0]\n",
    "s_id"
   ]
  },
  {
   "cell_type": "code",
   "execution_count": 25,
   "metadata": {
    "ExecuteTime": {
     "end_time": "2019-09-05T03:05:22.891169Z",
     "start_time": "2019-09-05T03:05:22.883995Z"
    }
   },
   "outputs": [
    {
     "data": {
      "text/plain": [
       "[1716]"
      ]
     },
     "execution_count": 25,
     "metadata": {},
     "output_type": "execute_result"
    }
   ],
   "source": [
    "id_train[s_id]"
   ]
  },
  {
   "cell_type": "code",
   "execution_count": 26,
   "metadata": {
    "ExecuteTime": {
     "end_time": "2019-09-05T03:05:30.306926Z",
     "start_time": "2019-09-05T03:05:30.299948Z"
    }
   },
   "outputs": [
    {
     "data": {
      "text/plain": [
       "['7ed5aa77']"
      ]
     },
     "execution_count": 26,
     "metadata": {},
     "output_type": "execute_result"
    }
   ],
   "source": [
    "text_id_train[s_id]"
   ]
  },
  {
   "cell_type": "code",
   "execution_count": 27,
   "metadata": {
    "ExecuteTime": {
     "end_time": "2019-09-05T03:05:40.417808Z",
     "start_time": "2019-09-05T03:05:40.411409Z"
    }
   },
   "outputs": [
    {
     "name": "stdout",
     "output_type": "stream",
     "text": [
      "('7ed5aa77', '悦花越有在灾害发生后第一时间向九寨沟县地震灾区捐款100万元资助灾区人民重建家园。 之后 悦花越有以最快的速度在平台发起了捐积分 援四川的大转盘抽奖献爱心活动 号召平台用户为灾区献出自己的爱心。 悦花越有平台用户响应积极 纷纷伸出援助之手 为灾区人民奉献了自己爱心。参与悦花越有本次大转盘献爱心活动的人数超过7100人 最终平台用户冯媛女士从众多用户中有幸被抽中。身为悦花越有平台的忠诚用户 她将会以悦天使的身份 代表悦花越有为灾区传递爱心。 灾难发生后 悦花越有心系灾区人民 积极发挥社会责任感与企业影响力 不仅通过捐款帮助灾区 更是以企业平台和号召力呼吁企业员工及用户为灾区人民献爱心 提供帮助。 未来 悦花越有还会持续关注九寨沟灾区的动态 悦花越有为灾区人民祈福 愿灾区人民早日度过难关 重建家园', [[2], [3], [3], [3], [1], [1], [1], [1], [1], [1], [1], [1], [1], [1], [1], [1], [1], [1], [1], [1], [1], [1], [1], [1], [1], [1], [1], [1], [1], [1], [1], [1], [1], [1], [1], [1], [1], [1], [1], [1], [1], [1], [1], [1], [1], [2], [3], [3], [3], [1], [1], [1], [1], [1], [1], [1], [1], [1], [1], [1], [1], [1], [1], [1], [1], [1], [1], [1], [1], [1], [1], [1], [1], [1], [1], [1], [1], [1], [1], [1], [1], [1], [1], [1], [1], [1], [1], [1], [1], [1], [1], [1], [1], [1], [1], [1], [1], [1], [2], [3], [3], [3], [1], [1], [1], [1], [1], [1], [1], [1], [1], [1], [1], [1], [1], [1], [1], [1], [1], [1], [1], [1], [1], [1], [1], [1], [1], [1], [1], [1], [1], [1], [1], [1], [1], [2], [3], [3], [3], [1], [1], [1], [1], [1], [1], [1], [1], [1], [1], [1], [1], [1], [1], [1], [1], [1], [1], [1], [1], [1], [1], [1], [1], [1], [1], [1], [1], [1], [1], [1], [1], [1], [1], [1], [1], [1], [1], [1], [1], [1], [1], [1], [1], [1], [2], [3], [3], [3], [1], [1], [1], [1], [1], [1], [1], [1], [1], [1], [1], [1], [1], [1], [1], [1], [1], [1], [1], [1], [1], [2], [3], [3], [3], [1], [1], [1], [1], [1], [1], [1], [1], [1], [1], [1], [1], [1], [1], [1], [2], [3], [3], [3], [1], [1], [1], [1], [1], [1], [1], [1], [1], [1], [1], [1], [1], [1], [1], [1], [1], [1], [1], [1], [1], [1], [1], [1], [1], [1], [1], [1], [1], [1], [1], [1], [1], [1], [1], [1], [1], [1], [1], [1], [1], [1], [1], [1], [1], [1], [1], [1], [1], [1], [1], [1], [1], [1], [1], [1], [1], [1], [1], [1], [1], [1], [1], [1], [1], [1], [1], [1], [1], [1], [1], [1], [2], [3], [3], [3], [1], [1], [1], [1], [1], [1], [1], [1], [1], [1], [1], [1], [1], [1], [1], [2], [3], [3], [3], [1], [1], [1], [1], [1], [1], [1], [1], [1], [1], [1], [1], [1], [1], [1], [1], [1], [1], [1], [1], [1], [1], [1], [1]])\n"
     ]
    }
   ],
   "source": [
    "print(train_data[1716])"
   ]
  },
  {
   "cell_type": "code",
   "execution_count": 28,
   "metadata": {
    "ExecuteTime": {
     "end_time": "2019-09-05T03:05:57.523955Z",
     "start_time": "2019-09-05T03:05:57.516405Z"
    }
   },
   "outputs": [
    {
     "data": {
      "text/plain": [
       "(351, 351)"
      ]
     },
     "execution_count": 28,
     "metadata": {},
     "output_type": "execute_result"
    }
   ],
   "source": [
    "len(train_data[1716][1]), len(train_data[1716][2])"
   ]
  },
  {
   "cell_type": "markdown",
   "metadata": {},
   "source": [
    "##  自定义ner模型"
   ]
  },
  {
   "cell_type": "markdown",
   "metadata": {},
   "source": [
    "### 定义模型"
   ]
  },
  {
   "cell_type": "code",
   "execution_count": 29,
   "metadata": {
    "ExecuteTime": {
     "end_time": "2019-09-05T03:06:33.035544Z",
     "start_time": "2019-09-05T03:06:28.498463Z"
    }
   },
   "outputs": [
    {
     "name": "stderr",
     "output_type": "stream",
     "text": [
      "/home/wangwei/miniconda3/envs/tf3/lib/python3.5/site-packages/keras_contrib-2.0.8-py3.5.egg/keras_contrib/layers/crf.py:346: UserWarning: CRF.loss_function is deprecated and it might be removed in the future. Please use losses.crf_loss instead.\n",
      "/home/wangwei/miniconda3/envs/tf3/lib/python3.5/site-packages/keras_contrib-2.0.8-py3.5.egg/keras_contrib/layers/crf.py:353: UserWarning: CRF.accuracy is deprecated and it might be removed in the future. Please use metrics.crf_accuracy\n"
     ]
    },
    {
     "name": "stdout",
     "output_type": "stream",
     "text": [
      "__________________________________________________________________________________________________\n",
      "Layer (type)                    Output Shape         Param #     Connected to                     \n",
      "==================================================================================================\n",
      "input_1 (InputLayer)            (None, None)         0                                            \n",
      "__________________________________________________________________________________________________\n",
      "input_2 (InputLayer)            (None, None)         0                                            \n",
      "__________________________________________________________________________________________________\n",
      "model_2 (Model)                 (None, None, 768)    101677056   input_1[0][0]                    \n",
      "                                                                 input_2[0][0]                    \n",
      "__________________________________________________________________________________________________\n",
      "bidirectional_1 (Bidirectional) (None, None, 256)    918528      model_2[1][0]                    \n",
      "__________________________________________________________________________________________________\n",
      "dropout_1 (Dropout)             (None, None, 256)    0           bidirectional_1[0][0]            \n",
      "__________________________________________________________________________________________________\n",
      "time_distributed_1 (TimeDistrib (None, None, 128)    32896       dropout_1[0][0]                  \n",
      "__________________________________________________________________________________________________\n",
      "crf_1 (CRF)                     (None, None, 4)      540         time_distributed_1[0][0]         \n",
      "==================================================================================================\n",
      "Total params: 102,629,020\n",
      "Trainable params: 951,964\n",
      "Non-trainable params: 101,677,056\n",
      "__________________________________________________________________________________________________\n"
     ]
    }
   ],
   "source": [
    "x1_in = keras.layers.Input(shape=(None,)) # 待识别句子输入\n",
    "x2_in = keras.layers.Input(shape=(None,)) # 待识别句子输入\n",
    "bert_output = bert_model([x1_in, x2_in])\n",
    "lstm = keras.layers.Bidirectional(keras.layers.LSTM(units=128, return_sequences=True))(bert_output)\n",
    "drop = keras.layers.Dropout(0.4)(lstm)\n",
    "dense = keras.layers.TimeDistributed(keras.layers.Dense(128, activation=\"relu\"))(drop)\n",
    "crf = CRF(n_tags)\n",
    "out = crf(dense)\n",
    "model = keras.models.Model(inputs=[x1_in, x2_in], outputs=out)\n",
    "model.compile(loss=crf.loss_function, optimizer='adam', metrics=[crf.accuracy])\n",
    "# model.compile(loss=keras.losses.crf_loss, optimizer='adam', metrics=[keras.metrics.crf_accuracy])\n",
    "model.summary()"
   ]
  },
  {
   "cell_type": "code",
   "execution_count": 30,
   "metadata": {
    "ExecuteTime": {
     "end_time": "2019-09-05T03:06:40.347908Z",
     "start_time": "2019-09-05T03:06:40.342689Z"
    }
   },
   "outputs": [],
   "source": [
    "save_path = \"/home/wangwei/tf_workdir/word_detect/model\"\n",
    "filepath=\"model_{epoch:02d}-{val_crf_viterbi_accuracy:.4f}.hdf5\""
   ]
  },
  {
   "cell_type": "code",
   "execution_count": 31,
   "metadata": {
    "ExecuteTime": {
     "end_time": "2019-09-05T03:06:47.570866Z",
     "start_time": "2019-09-05T03:06:47.563941Z"
    }
   },
   "outputs": [],
   "source": [
    "callbacks = [\n",
    "    keras.callbacks.EarlyStopping(monitor='val_loss', patience=2, verbose=0),\n",
    "    keras.callbacks.ModelCheckpoint(os.path.join(save_path, filepath), monitor='val_loss', save_best_only=True, verbose=0),\n",
    "]"
   ]
  },
  {
   "cell_type": "markdown",
   "metadata": {},
   "source": [
    "### 训练过程"
   ]
  },
  {
   "cell_type": "code",
   "execution_count": 32,
   "metadata": {
    "ExecuteTime": {
     "end_time": "2019-09-05T03:57:21.704786Z",
     "start_time": "2019-09-05T03:07:05.545118Z"
    },
    "scrolled": true
   },
   "outputs": [
    {
     "name": "stdout",
     "output_type": "stream",
     "text": [
      "Train on 3989 samples, validate on 444 samples\n",
      "Epoch 1/20\n",
      "3989/3989 [==============================] - 238s 60ms/step - loss: 7.9539 - crf_viterbi_accuracy: 0.8932 - val_loss: 7.4705 - val_crf_viterbi_accuracy: 0.9329\n",
      "Epoch 2/20\n",
      "3989/3989 [==============================] - 230s 58ms/step - loss: 7.7739 - crf_viterbi_accuracy: 0.9318 - val_loss: 7.4365 - val_crf_viterbi_accuracy: 0.9378\n",
      "Epoch 3/20\n",
      "3989/3989 [==============================] - 231s 58ms/step - loss: 7.7371 - crf_viterbi_accuracy: 0.9429 - val_loss: 7.4174 - val_crf_viterbi_accuracy: 0.9470\n",
      "Epoch 4/20\n",
      "3989/3989 [==============================] - 231s 58ms/step - loss: 7.7145 - crf_viterbi_accuracy: 0.9530 - val_loss: 7.4022 - val_crf_viterbi_accuracy: 0.9547\n",
      "Epoch 5/20\n",
      "3989/3989 [==============================] - 232s 58ms/step - loss: 7.6976 - crf_viterbi_accuracy: 0.9627 - val_loss: 7.3880 - val_crf_viterbi_accuracy: 0.9723\n",
      "Epoch 6/20\n",
      "3989/3989 [==============================] - 231s 58ms/step - loss: 7.6834 - crf_viterbi_accuracy: 0.9686 - val_loss: 7.3920 - val_crf_viterbi_accuracy: 0.9617\n",
      "Epoch 7/20\n",
      "3989/3989 [==============================] - 232s 58ms/step - loss: 7.6709 - crf_viterbi_accuracy: 0.9741 - val_loss: 7.3792 - val_crf_viterbi_accuracy: 0.9717\n",
      "Epoch 8/20\n",
      "3989/3989 [==============================] - 231s 58ms/step - loss: 7.6624 - crf_viterbi_accuracy: 0.9765 - val_loss: 7.3783 - val_crf_viterbi_accuracy: 0.9772\n",
      "Epoch 9/20\n",
      "3989/3989 [==============================] - 230s 58ms/step - loss: 7.6563 - crf_viterbi_accuracy: 0.9775 - val_loss: 7.3758 - val_crf_viterbi_accuracy: 0.9789\n",
      "Epoch 10/20\n",
      "3989/3989 [==============================] - 231s 58ms/step - loss: 7.6476 - crf_viterbi_accuracy: 0.9811 - val_loss: 7.3763 - val_crf_viterbi_accuracy: 0.9784\n",
      "Epoch 11/20\n",
      "3989/3989 [==============================] - 230s 58ms/step - loss: 7.6408 - crf_viterbi_accuracy: 0.9833 - val_loss: 7.3747 - val_crf_viterbi_accuracy: 0.9805\n",
      "Epoch 12/20\n",
      "3989/3989 [==============================] - 230s 58ms/step - loss: 7.6378 - crf_viterbi_accuracy: 0.9836 - val_loss: 7.3881 - val_crf_viterbi_accuracy: 0.9797\n",
      "Epoch 13/20\n",
      "3989/3989 [==============================] - 230s 58ms/step - loss: 7.6343 - crf_viterbi_accuracy: 0.9851 - val_loss: 7.3805 - val_crf_viterbi_accuracy: 0.9811\n"
     ]
    }
   ],
   "source": [
    "history = model.fit([X1_train, X2_train], np.array(Y_train), batch_size=64, epochs=20,\n",
    "                    validation_data=([X1_test, X2_test], np.array(Y_test)), verbose=1, callbacks=callbacks)"
   ]
  },
  {
   "cell_type": "markdown",
   "metadata": {},
   "source": [
    "###  绘制训练图形"
   ]
  },
  {
   "cell_type": "code",
   "execution_count": 33,
   "metadata": {
    "ExecuteTime": {
     "end_time": "2019-09-05T03:57:21.729179Z",
     "start_time": "2019-09-05T03:57:21.708070Z"
    }
   },
   "outputs": [
    {
     "data": {
      "text/html": [
       "<div>\n",
       "<style scoped>\n",
       "    .dataframe tbody tr th:only-of-type {\n",
       "        vertical-align: middle;\n",
       "    }\n",
       "\n",
       "    .dataframe tbody tr th {\n",
       "        vertical-align: top;\n",
       "    }\n",
       "\n",
       "    .dataframe thead th {\n",
       "        text-align: right;\n",
       "    }\n",
       "</style>\n",
       "<table border=\"1\" class=\"dataframe\">\n",
       "  <thead>\n",
       "    <tr style=\"text-align: right;\">\n",
       "      <th></th>\n",
       "      <th>crf_viterbi_accuracy</th>\n",
       "      <th>loss</th>\n",
       "      <th>val_crf_viterbi_accuracy</th>\n",
       "      <th>val_loss</th>\n",
       "    </tr>\n",
       "  </thead>\n",
       "  <tbody>\n",
       "    <tr>\n",
       "      <th>0</th>\n",
       "      <td>0.893216</td>\n",
       "      <td>7.953896</td>\n",
       "      <td>0.932912</td>\n",
       "      <td>7.470517</td>\n",
       "    </tr>\n",
       "    <tr>\n",
       "      <th>1</th>\n",
       "      <td>0.931815</td>\n",
       "      <td>7.773933</td>\n",
       "      <td>0.937818</td>\n",
       "      <td>7.436458</td>\n",
       "    </tr>\n",
       "    <tr>\n",
       "      <th>2</th>\n",
       "      <td>0.942886</td>\n",
       "      <td>7.737079</td>\n",
       "      <td>0.947018</td>\n",
       "      <td>7.417439</td>\n",
       "    </tr>\n",
       "    <tr>\n",
       "      <th>3</th>\n",
       "      <td>0.952999</td>\n",
       "      <td>7.714459</td>\n",
       "      <td>0.954731</td>\n",
       "      <td>7.402221</td>\n",
       "    </tr>\n",
       "    <tr>\n",
       "      <th>4</th>\n",
       "      <td>0.962738</td>\n",
       "      <td>7.697616</td>\n",
       "      <td>0.972331</td>\n",
       "      <td>7.388022</td>\n",
       "    </tr>\n",
       "  </tbody>\n",
       "</table>\n",
       "</div>"
      ],
      "text/plain": [
       "   crf_viterbi_accuracy      loss  val_crf_viterbi_accuracy  val_loss\n",
       "0              0.893216  7.953896                  0.932912  7.470517\n",
       "1              0.931815  7.773933                  0.937818  7.436458\n",
       "2              0.942886  7.737079                  0.947018  7.417439\n",
       "3              0.952999  7.714459                  0.954731  7.402221\n",
       "4              0.962738  7.697616                  0.972331  7.388022"
      ]
     },
     "execution_count": 33,
     "metadata": {},
     "output_type": "execute_result"
    }
   ],
   "source": [
    "hist = pd.DataFrame(history.history)\n",
    "hist.head()"
   ]
  },
  {
   "cell_type": "code",
   "execution_count": 34,
   "metadata": {
    "ExecuteTime": {
     "end_time": "2019-09-05T03:57:21.985209Z",
     "start_time": "2019-09-05T03:57:21.731383Z"
    }
   },
   "outputs": [
    {
     "data": {
      "image/png": "[encoded data removed]",
      "text/plain": [
       "<Figure size 576x576 with 1 Axes>"
      ]
     },
     "metadata": {},
     "output_type": "display_data"
    }
   ],
   "source": [
    "plt.style.use(\"ggplot\")\n",
    "plt.figure(figsize=(8,8))\n",
    "plt.plot(hist[\"crf_viterbi_accuracy\"])\n",
    "plt.plot(hist[\"val_crf_viterbi_accuracy\"])\n",
    "plt.show()"
   ]
  },
  {
   "cell_type": "code",
   "execution_count": 35,
   "metadata": {
    "ExecuteTime": {
     "end_time": "2019-09-05T03:57:21.990014Z",
     "start_time": "2019-09-05T03:57:21.987299Z"
    }
   },
   "outputs": [],
   "source": [
    "### 对验证集进行各种度量指标计算"
   ]
  },
  {
   "cell_type": "code",
   "execution_count": 36,
   "metadata": {
    "ExecuteTime": {
     "end_time": "2019-09-05T03:57:22.001183Z",
     "start_time": "2019-09-05T03:57:21.991770Z"
    }
   },
   "outputs": [
    {
     "data": {
      "text/plain": [
       "(444, 512)"
      ]
     },
     "execution_count": 36,
     "metadata": {},
     "output_type": "execute_result"
    }
   ],
   "source": [
    "X1_test.shape"
   ]
  },
  {
   "cell_type": "code",
   "execution_count": 37,
   "metadata": {
    "ExecuteTime": {
     "end_time": "2019-09-05T03:57:43.365745Z",
     "start_time": "2019-09-05T03:57:22.003343Z"
    }
   },
   "outputs": [
    {
     "name": "stdout",
     "output_type": "stream",
     "text": [
      "444/444 [==============================] - 21s 48ms/step\n"
     ]
    }
   ],
   "source": [
    "test_pred = model.predict([X1_test, X2_test], verbose=1)"
   ]
  },
  {
   "cell_type": "code",
   "execution_count": 38,
   "metadata": {
    "ExecuteTime": {
     "end_time": "2019-09-05T03:57:43.374778Z",
     "start_time": "2019-09-05T03:57:43.368600Z"
    }
   },
   "outputs": [
    {
     "name": "stdout",
     "output_type": "stream",
     "text": [
      "tag2idx: {'B': 2, 'O': 1, 'I': 3, '-PAD-': 0}\n",
      "idx2tag: {0: '-PAD-', 1: 'O', 2: 'B', 3: 'I'}\n"
     ]
    }
   ],
   "source": [
    "idx2tag = {i: w for w, i in tag2idx.items()}\n",
    "print(\"tag2idx:\", tag2idx)\n",
    "print(\"idx2tag:\", idx2tag)"
   ]
  },
  {
   "cell_type": "code",
   "execution_count": 39,
   "metadata": {
    "ExecuteTime": {
     "end_time": "2019-09-05T03:57:43.385855Z",
     "start_time": "2019-09-05T03:57:43.379563Z"
    }
   },
   "outputs": [
    {
     "data": {
      "text/plain": [
       "(444, 512, 4)"
      ]
     },
     "execution_count": 39,
     "metadata": {},
     "output_type": "execute_result"
    }
   ],
   "source": [
    "test_pred.shape"
   ]
  },
  {
   "cell_type": "code",
   "execution_count": 40,
   "metadata": {
    "ExecuteTime": {
     "end_time": "2019-09-05T03:57:44.404271Z",
     "start_time": "2019-09-05T03:57:43.388630Z"
    }
   },
   "outputs": [],
   "source": [
    "def pred2label(pred):\n",
    "    out = []\n",
    "    for pred_i in pred:\n",
    "        out_i = []\n",
    "        for p in pred_i:\n",
    "            p_i = np.argmax(p)\n",
    "            out_i.append(idx2tag[p_i].replace(\"-PAD-\", \"O\"))\n",
    "        out.append(out_i)\n",
    "    return out\n",
    "    \n",
    "pred_labels = pred2label(test_pred)\n",
    "test_labels = pred2label(Y_test)"
   ]
  },
  {
   "cell_type": "code",
   "execution_count": 41,
   "metadata": {
    "ExecuteTime": {
     "end_time": "2019-09-05T03:57:44.904263Z",
     "start_time": "2019-09-05T03:57:44.406348Z"
    }
   },
   "outputs": [
    {
     "name": "stdout",
     "output_type": "stream",
     "text": [
      "F1-score: 84.1%\n"
     ]
    }
   ],
   "source": [
    "print(\"F1-score: {:.1%}\".format(f1_score(test_labels, pred_labels)))"
   ]
  },
  {
   "cell_type": "code",
   "execution_count": 42,
   "metadata": {
    "ExecuteTime": {
     "end_time": "2019-09-05T03:57:46.851990Z",
     "start_time": "2019-09-05T03:57:44.906277Z"
    }
   },
   "outputs": [
    {
     "name": "stdout",
     "output_type": "stream",
     "text": [
      "           precision    recall  f1-score   support\n",
      "\n",
      "        B       0.87      0.90      0.89      2093\n",
      "        I       0.77      0.82      0.79      2089\n",
      "\n",
      "micro avg       0.82      0.86      0.84      4182\n",
      "macro avg       0.82      0.86      0.84      4182\n",
      "\n"
     ]
    }
   ],
   "source": [
    "print(classification_report(test_labels, pred_labels))"
   ]
  },
  {
   "cell_type": "markdown",
   "metadata": {},
   "source": [
    "### 验证个例"
   ]
  },
  {
   "cell_type": "code",
   "execution_count": 43,
   "metadata": {
    "ExecuteTime": {
     "end_time": "2019-09-05T03:57:46.860554Z",
     "start_time": "2019-09-05T03:57:46.854047Z"
    }
   },
   "outputs": [
    {
     "name": "stdout",
     "output_type": "stream",
     "text": [
      "['3c27e9bb']\n",
      "('3c27e9bb', 'ICA亚投链矿机投资配股拆分理财开发找13郑286婷015微737电。ICA亚投链网上投资理财app开发、ICA亚投链虚拟币投资分红模式开发、ICA亚投链理财平台网页版定制开发、ICA亚投链区块链分红系统程序开发区块链技术的定义是什么。ICA亚投链模式制度介绍 注册免费送12万台矿机 数量有限 送完为止。ICA亚投链全球恒量发行1 5亿枚 永不增发 开盘价0 2美元 预计开盘交易黑市价不低于2美元 市场更是一币难求 采取有效的控盘机制。ICA亚投链全球恒量发行1 5亿枚 永不增发。ICA亚投链资质背书 双加密网址 独立开源代码 采用POW智能合约 POS算力 对接商城 话费 水电费充值 中石油、中石化充值 ICA亚投链推广奖励 矿工公会ICA亚投链奖励 一代 拿直推收益总产量的5%低于直推算力 收益减半二代 3%三代 1%一星会长 直推10人 团队100人 工会算力 总算力达到20GH S 送小型矿机一台', [[2], [3], [3], [3], [3], [3], [1], [1], [1], [1], [1], [1], [1], [1], [1], [1], [1], [1], [1], [1], [1], [1], [1], [1], [1], [1], [1], [1], [1], [1], [1], [1], [1], [1], [1], [2], [3], [3], [3], [3], [3], [1], [1], [1], [1], [1], [1], [1], [1], [1], [1], [1], [1], [2], [3], [3], [3], [3], [3], [1], [1], [1], [1], [1], [1], [1], [1], [1], [1], [1], [1], [2], [3], [3], [3], [3], [3], [1], [1], [1], [1], [1], [1], [1], [1], [1], [1], [1], [1], [2], [3], [3], [3], [3], [3], [1], [1], [1], [1], [1], [1], [1], [1], [1], [1], [1], [1], [1], [1], [1], [1], [1], [1], [1], [1], [1], [1], [1], [2], [3], [3], [3], [3], [3], [1], [1], [1], [1], [1], [1], [1], [1], [1], [1], [1], [1], [1], [1], [1], [1], [1], [1], [1], [1], [1], [1], [1], [1], [1], [1], [1], [1], [1], [2], [3], [3], [3], [3], [3], [1], [1], [1], [1], [1], [1], [1], [1], [1], [1], [1], [1], [1], [1], [1], [1], [1], [1], [1], [1], [1], [1], [1], [1], [1], [1], [1], [1], [1], [1], [1], [1], [1], [1], [1], [1], [1], [1], [1], [1], [1], [1], [1], [1], [1], [1], [1], [1], [1], [1], [1], [1], [1], [1], [1], [1], [1], [1], [1], [1], [1], [2], [3], [3], [3], [3], [3], [1], [1], [1], [1], [1], [1], [1], [1], [1], [1], [1], [1], [1], [1], [1], [1], [1], [2], [3], [3], [3], [3], [3], [1], [1], [1], [1], [1], [1], [1], [1], [1], [1], [1], [1], [1], [1], [1], [1], [1], [1], [1], [1], [1], [1], [1], [1], [1], [1], [1], [1], [1], [1], [1], [1], [1], [1], [1], [1], [1], [1], [1], [1], [1], [1], [1], [1], [1], [1], [1], [1], [1], [1], [1], [1], [1], [1], [1], [1], [1], [1], [2], [3], [3], [3], [3], [3], [1], [1], [1], [1], [1], [1], [1], [1], [1], [2], [3], [3], [3], [3], [3], [1], [1], [1], [1], [1], [1], [1], [1], [1], [1], [1], [1], [1], [1], [1], [1], [1], [1], [1], [1], [1], [1], [1], [1], [1], [1], [1], [1], [1], [1], [1], [1], [1], [1], [1], [1], [1], [1], [1], [1], [1], [1], [1], [1], [1], [1], [1], [1], [1], [1], [1], [1], [1], [1], [1], [1], [1], [1], [1], [1], [1], [1], [1], [1], [1], [1], [1], [1], [1], [1], [1], [1], [1], [1], [1], [1], [1], [1], [1], [1]])\n",
      "[[0. 0. 1. 0.]\n",
      " [0. 0. 0. 1.]\n",
      " [0. 0. 0. 1.]\n",
      " ...\n",
      " [1. 0. 0. 0.]\n",
      " [1. 0. 0. 0.]\n",
      " [1. 0. 0. 0.]]\n"
     ]
    }
   ],
   "source": [
    "# 随机抽样\n",
    "sample_id = random.sample(range(len(id_test)), 1)[0]\n",
    "sample_X1 = X1_test[sample_id]\n",
    "sample_X2 = X2_test[sample_id]\n",
    "tid = id_test[sample_id][0]\n",
    "sample_text_id = text_id_test[sample_id]\n",
    "print(sample_text_id)\n",
    "sample_data = train_data[tid]\n",
    "print(sample_data)\n",
    "sample_Y = Y_test[sample_id]\n",
    "print(sample_Y)"
   ]
  },
  {
   "cell_type": "code",
   "execution_count": 44,
   "metadata": {
    "ExecuteTime": {
     "end_time": "2019-09-05T03:57:46.870274Z",
     "start_time": "2019-09-05T03:57:46.862318Z"
    }
   },
   "outputs": [
    {
     "data": {
      "text/plain": [
       "(512,)"
      ]
     },
     "execution_count": 44,
     "metadata": {},
     "output_type": "execute_result"
    }
   ],
   "source": [
    "sample_X1.shape"
   ]
  },
  {
   "cell_type": "code",
   "execution_count": 45,
   "metadata": {
    "ExecuteTime": {
     "end_time": "2019-09-05T03:57:47.555336Z",
     "start_time": "2019-09-05T03:57:46.871773Z"
    }
   },
   "outputs": [
    {
     "name": "stdout",
     "output_type": "stream",
     "text": [
      "(1, 512, 4)\n"
     ]
    }
   ],
   "source": [
    "predict = model.predict([sample_X1.reshape([1, -1]), sample_X2.reshape([1, -1])])\n",
    "print(predict.shape)"
   ]
  },
  {
   "cell_type": "code",
   "execution_count": 46,
   "metadata": {
    "ExecuteTime": {
     "end_time": "2019-09-05T03:57:47.563364Z",
     "start_time": "2019-09-05T03:57:47.558356Z"
    }
   },
   "outputs": [],
   "source": [
    "pred = np.argmax(predict, axis=-1).reshape([-1])\n",
    "true = np.argmax(sample_Y, axis=-1)"
   ]
  },
  {
   "cell_type": "code",
   "execution_count": 47,
   "metadata": {
    "ExecuteTime": {
     "end_time": "2019-09-05T03:57:47.573980Z",
     "start_time": "2019-09-05T03:57:47.565160Z"
    }
   },
   "outputs": [],
   "source": [
    "pred_label = [idx2tag[i] for i in pred]\n",
    "true_label = [idx2tag[i] for i in true]"
   ]
  },
  {
   "cell_type": "code",
   "execution_count": 48,
   "metadata": {
    "ExecuteTime": {
     "end_time": "2019-09-05T03:57:47.624632Z",
     "start_time": "2019-09-05T03:57:47.576187Z"
    }
   },
   "outputs": [
    {
     "name": "stdout",
     "output_type": "stream",
     "text": [
      "I              : B     B\n",
      "C              : I     I\n",
      "A              : I     I\n",
      "亚              : I     I\n",
      "投              : I     I\n",
      "链              : I     I\n",
      "矿              : O     O\n",
      "机              : O     O\n",
      "投              : O     O\n",
      "资              : O     O\n",
      "配              : O     O\n",
      "股              : O     O\n",
      "拆              : O     O\n",
      "分              : O     O\n",
      "理              : O     O\n",
      "财              : O     O\n",
      "开              : O     O\n",
      "发              : O     O\n",
      "找              : O     O\n",
      "1              : O     O\n",
      "3              : O     O\n",
      "郑              : O     O\n",
      "2              : O     O\n",
      "8              : O     O\n",
      "6              : O     O\n",
      "婷              : O     O\n",
      "0              : O     O\n",
      "1              : O     O\n",
      "5              : O     O\n",
      "微              : O     O\n",
      "7              : O     O\n",
      "3              : O     O\n",
      "7              : O     O\n",
      "电              : O     O\n",
      "。              : O     O\n",
      "I              : B     B\n",
      "C              : I     I\n",
      "A              : I     I\n",
      "亚              : I     I\n",
      "投              : I     I\n",
      "链              : I     I\n",
      "网              : O     O\n",
      "上              : O     O\n",
      "投              : O     O\n",
      "资              : O     O\n",
      "理              : O     O\n",
      "财              : O     O\n",
      "a              : O     O\n",
      "p              : O     O\n",
      "p              : O     O\n",
      "开              : O     O\n",
      "发              : O     O\n",
      "、              : O     O\n",
      "I              : B     B\n",
      "C              : I     I\n",
      "A              : I     I\n",
      "亚              : I     I\n",
      "投              : I     I\n",
      "链              : I     I\n",
      "虚              : O     O\n",
      "拟              : O     O\n",
      "币              : O     O\n",
      "投              : O     O\n",
      "资              : O     O\n",
      "分              : O     O\n",
      "红              : O     O\n",
      "模              : O     O\n",
      "式              : O     O\n",
      "开              : O     O\n",
      "发              : O     O\n",
      "、              : O     O\n",
      "I              : B     B\n",
      "C              : I     I\n",
      "A              : I     I\n",
      "亚              : I     I\n",
      "投              : I     I\n",
      "链              : I     I\n",
      "理              : O     O\n",
      "财              : O     O\n",
      "平              : O     O\n",
      "台              : O     O\n",
      "网              : O     O\n",
      "页              : O     O\n",
      "版              : O     O\n",
      "定              : O     O\n",
      "制              : O     O\n",
      "开              : O     O\n",
      "发              : O     O\n",
      "、              : O     O\n",
      "I              : B     B\n",
      "C              : I     I\n",
      "A              : I     I\n",
      "亚              : I     I\n",
      "投              : I     I\n",
      "链              : I     I\n",
      "区              : O     O\n",
      "块              : O     O\n",
      "链              : O     O\n",
      "分              : O     O\n",
      "红              : O     O\n",
      "系              : O     O\n",
      "统              : O     O\n",
      "程              : O     O\n",
      "序              : O     O\n",
      "开              : O     O\n",
      "发              : O     O\n",
      "区              : O     O\n",
      "块              : O     O\n",
      "链              : O     O\n",
      "技              : O     O\n",
      "术              : O     O\n",
      "的              : O     O\n",
      "定              : O     O\n",
      "义              : O     O\n",
      "是              : O     O\n",
      "什              : O     O\n",
      "么              : O     O\n",
      "。              : O     O\n",
      "I              : B     B\n",
      "C              : I     I\n",
      "A              : I     I\n",
      "亚              : I     I\n",
      "投              : I     I\n",
      "链              : I     I\n",
      "模              : O     O\n",
      "式              : O     O\n",
      "制              : O     O\n",
      "度              : O     O\n",
      "介              : O     O\n",
      "绍              : O     O\n",
      "               : O     O\n",
      "注              : O     O\n",
      "册              : O     O\n",
      "免              : O     O\n",
      "费              : O     O\n",
      "送              : O     O\n",
      "1              : O     O\n",
      "2              : O     O\n",
      "万              : O     O\n",
      "台              : O     O\n",
      "矿              : O     O\n",
      "机              : O     O\n",
      "               : O     O\n",
      "数              : O     O\n",
      "量              : O     O\n",
      "有              : O     O\n",
      "限              : O     O\n",
      "               : O     O\n",
      "送              : O     O\n",
      "完              : O     O\n",
      "为              : O     O\n",
      "止              : O     O\n",
      "。              : O     O\n",
      "I              : B     B\n",
      "C              : I     I\n",
      "A              : I     I\n",
      "亚              : I     I\n",
      "投              : I     I\n",
      "链              : I     I\n",
      "全              : O     O\n",
      "球              : O     O\n",
      "恒              : O     O\n",
      "量              : O     O\n",
      "发              : O     O\n",
      "行              : O     O\n",
      "1              : O     O\n",
      "               : O     O\n",
      "5              : O     O\n",
      "亿              : O     O\n",
      "枚              : O     O\n",
      "               : O     O\n",
      "永              : O     O\n",
      "不              : O     O\n",
      "增              : O     O\n",
      "发              : O     O\n",
      "               : O     O\n",
      "开              : O     O\n",
      "盘              : O     O\n",
      "价              : O     O\n",
      "0              : O     O\n",
      "               : O     O\n",
      "2              : O     O\n",
      "美              : O     O\n",
      "元              : O     O\n",
      "               : O     O\n",
      "预              : O     O\n",
      "计              : O     O\n",
      "开              : O     O\n",
      "盘              : O     O\n",
      "交              : O     O\n",
      "易              : O     O\n",
      "黑              : O     O\n",
      "市              : O     O\n",
      "价              : O     O\n",
      "不              : O     O\n",
      "低              : O     O\n",
      "于              : O     O\n",
      "2              : O     O\n",
      "美              : O     O\n",
      "元              : O     O\n",
      "               : O     O\n",
      "市              : O     O\n",
      "场              : O     O\n",
      "更              : O     O\n",
      "是              : O     O\n",
      "一              : O     O\n",
      "币              : O     O\n",
      "难              : O     O\n",
      "求              : O     O\n",
      "               : O     O\n",
      "采              : O     O\n",
      "取              : O     O\n",
      "有              : O     O\n",
      "效              : O     O\n",
      "的              : O     O\n",
      "控              : O     O\n",
      "盘              : O     O\n",
      "机              : O     O\n",
      "制              : O     O\n",
      "。              : O     O\n",
      "I              : B     B\n",
      "C              : I     I\n",
      "A              : I     I\n",
      "亚              : I     I\n",
      "投              : I     I\n",
      "链              : I     I\n",
      "全              : O     O\n",
      "球              : O     O\n",
      "恒              : O     O\n",
      "量              : O     O\n",
      "发              : O     O\n",
      "行              : O     O\n",
      "1              : O     O\n",
      "               : O     O\n",
      "5              : O     O\n",
      "亿              : O     O\n",
      "枚              : O     O\n",
      "               : O     O\n",
      "永              : O     O\n",
      "不              : O     O\n",
      "增              : O     O\n",
      "发              : O     O\n",
      "。              : O     O\n",
      "I              : B     B\n",
      "C              : I     I\n",
      "A              : I     I\n",
      "亚              : I     I\n",
      "投              : I     I\n",
      "链              : I     I\n",
      "资              : O     O\n",
      "质              : O     O\n",
      "背              : O     O\n",
      "书              : O     O\n",
      "               : O     O\n",
      "双              : O     O\n",
      "加              : O     O\n",
      "密              : O     O\n",
      "网              : O     O\n",
      "址              : O     O\n",
      "               : O     O\n",
      "独              : O     O\n",
      "立              : O     O\n",
      "开              : O     O\n",
      "源              : O     O\n",
      "代              : O     O\n",
      "码              : O     O\n",
      "               : O     O\n",
      "采              : O     O\n",
      "用              : O     O\n",
      "P              : O     O\n",
      "O              : O     O\n",
      "W              : O     O\n",
      "智              : O     O\n",
      "能              : O     O\n",
      "合              : O     O\n",
      "约              : O     O\n",
      "               : O     O\n",
      "P              : O     O\n",
      "O              : O     O\n",
      "S              : O     O\n",
      "算              : O     O\n",
      "力              : O     O\n",
      "               : O     O\n",
      "对              : O     O\n",
      "接              : O     O\n",
      "商              : O     O\n",
      "城              : O     O\n",
      "               : O     O\n",
      "话              : O     O\n",
      "费              : O     O\n",
      "               : O     O\n",
      "水              : O     O\n",
      "电              : O     O\n",
      "费              : O     O\n",
      "充              : O     O\n",
      "值              : O     O\n",
      "               : O     O\n",
      "中              : O     O\n",
      "石              : O     O\n",
      "油              : O     O\n",
      "、              : O     O\n",
      "中              : O     O\n",
      "石              : O     O\n",
      "化              : O     O\n",
      "充              : O     O\n",
      "值              : O     O\n",
      "               : O     O\n",
      "I              : B     B\n",
      "C              : I     I\n",
      "A              : I     I\n",
      "亚              : I     I\n",
      "投              : I     I\n",
      "链              : I     I\n",
      "推              : O     O\n",
      "广              : O     O\n",
      "奖              : O     O\n",
      "励              : O     O\n",
      "               : O     O\n",
      "矿              : O     O\n",
      "工              : O     O\n",
      "公              : O     O\n",
      "会              : O     O\n",
      "I              : B     B\n",
      "C              : I     I\n",
      "A              : I     I\n",
      "亚              : I     I\n",
      "投              : I     I\n",
      "链              : I     I\n",
      "奖              : O     O\n",
      "励              : O     O\n",
      "               : O     O\n",
      "一              : O     O\n",
      "代              : O     O\n",
      "               : O     O\n",
      "拿              : O     O\n",
      "直              : O     O\n",
      "推              : O     O\n",
      "收              : O     O\n",
      "益              : O     O\n",
      "总              : O     O\n",
      "产              : O     O\n",
      "量              : O     O\n",
      "的              : O     O\n",
      "5              : O     O\n",
      "%              : O     O\n",
      "低              : O     O\n",
      "于              : O     O\n",
      "直              : O     O\n",
      "推              : O     O\n",
      "算              : O     O\n",
      "力              : O     O\n",
      "               : O     O\n",
      "收              : O     O\n",
      "益              : O     O\n",
      "减              : O     O\n",
      "半              : O     O\n",
      "二              : O     O\n",
      "代              : O     O\n",
      "               : O     O\n",
      "3              : O     O\n",
      "%              : O     O\n",
      "三              : O     O\n",
      "代              : O     O\n",
      "               : O     O\n",
      "1              : O     O\n",
      "%              : O     O\n",
      "一              : O     O\n",
      "星              : O     O\n",
      "会              : O     O\n",
      "长              : O     O\n",
      "               : O     O\n",
      "直              : O     O\n",
      "推              : O     O\n",
      "1              : O     O\n",
      "0              : O     O\n",
      "人              : O     O\n",
      "               : O     O\n",
      "团              : O     O\n",
      "队              : O     O\n",
      "1              : O     O\n",
      "0              : O     O\n",
      "0              : O     O\n",
      "人              : O     O\n",
      "               : O     O\n",
      "工              : O     O\n",
      "会              : O     O\n",
      "算              : O     O\n",
      "力              : O     O\n",
      "               : O     O\n",
      "总              : O     O\n",
      "算              : O     O\n",
      "力              : O     O\n",
      "达              : O     O\n",
      "到              : O     O\n",
      "2              : O     O\n",
      "0              : O     O\n",
      "G              : O     O\n",
      "H              : O     O\n",
      "               : O     O\n",
      "S              : O     O\n",
      "               : O     O\n",
      "送              : O     O\n",
      "小              : O     O\n",
      "型              : O     O\n",
      "矿              : O     O\n",
      "机              : O     O\n",
      "一              : O     O\n",
      "台              : O     O\n"
     ]
    }
   ],
   "source": [
    "for c, t, p in zip(sample_data[1], pred_label, true_label):\n",
    "    if t != \"-PAD-\":\n",
    "        print(\"{:15}: {:5} {}\".format(c, t, p))"
   ]
  },
  {
   "cell_type": "code",
   "execution_count": 49,
   "metadata": {
    "ExecuteTime": {
     "end_time": "2019-09-05T03:57:47.635452Z",
     "start_time": "2019-09-05T03:57:47.626818Z"
    }
   },
   "outputs": [],
   "source": [
    "def get_entity(X_data, y_data):\n",
    "    \"\"\"\n",
    "    \"\"\"\n",
    "    entity_list = []\n",
    "    entity_name = ''\n",
    "    for i, (c, l) in enumerate(zip(X_data, y_data)):\n",
    "        if l == \"B\":\n",
    "            entity_name += c\n",
    "        elif (l == \"I\") and (len(entity_name)) > 0:\n",
    "            entity_name += c\n",
    "            if i == len(y_data) - 1:\n",
    "                entity_list.append(entity_name)\n",
    "        elif l == \"O\":\n",
    "            if len(entity_name) > 0:\n",
    "                entity_list.append(entity_name)\n",
    "            entity_name = ''\n",
    "            \n",
    "    return \" \".join(list(set(entity_list)))"
   ]
  },
  {
   "cell_type": "code",
   "execution_count": 50,
   "metadata": {
    "ExecuteTime": {
     "end_time": "2019-09-05T03:57:47.645893Z",
     "start_time": "2019-09-05T03:57:47.637090Z"
    }
   },
   "outputs": [
    {
     "name": "stdout",
     "output_type": "stream",
     "text": [
      "['I', 'C', 'A', '亚', '投', '链', '矿', '机', '投', '资', '配', '股', '拆', '分', '理', '财', '开', '发', '找', '1', '3', '郑', '2', '8', '6', '婷', '0', '1', '5', '微', '7', '3', '7', '电', '。', 'I', 'C', 'A', '亚', '投', '链', '网', '上', '投', '资', '理', '财', 'a', 'p', 'p', '开', '发', '、', 'I', 'C', 'A', '亚', '投', '链', '虚', '拟', '币', '投', '资', '分', '红', '模', '式', '开', '发', '、', 'I', 'C', 'A', '亚', '投', '链', '理', '财', '平', '台', '网', '页', '版', '定', '制', '开', '发', '、', 'I', 'C', 'A', '亚', '投', '链', '区', '块', '链', '分', '红', '系', '统', '程', '序', '开', '发', '区', '块', '链', '技', '术', '的', '定', '义', '是', '什', '么', '。', 'I', 'C', 'A', '亚', '投', '链', '模', '式', '制', '度', '介', '绍', ' ', '注', '册', '免', '费', '送', '1', '2', '万', '台', '矿', '机', ' ', '数', '量', '有', '限', ' ', '送', '完', '为', '止', '。', 'I', 'C', 'A', '亚', '投', '链', '全', '球', '恒', '量', '发', '行', '1', ' ', '5', '亿', '枚', ' ', '永', '不', '增', '发', ' ', '开', '盘', '价', '0', ' ', '2', '美', '元', ' ', '预', '计', '开', '盘', '交', '易', '黑', '市', '价', '不', '低', '于', '2', '美', '元', ' ', '市', '场', '更', '是', '一', '币', '难', '求', ' ', '采', '取', '有', '效', '的', '控', '盘', '机', '制', '。', 'I', 'C', 'A', '亚', '投', '链', '全', '球', '恒', '量', '发', '行', '1', ' ', '5', '亿', '枚', ' ', '永', '不', '增', '发', '。', 'I', 'C', 'A', '亚', '投', '链', '资', '质', '背', '书', ' ', '双', '加', '密', '网', '址', ' ', '独', '立', '开', '源', '代', '码', ' ', '采', '用', 'P', 'O', 'W', '智', '能', '合', '约', ' ', 'P', 'O', 'S', '算', '力', ' ', '对', '接', '商', '城', ' ', '话', '费', ' ', '水', '电', '费', '充', '值', ' ', '中', '石', '油', '、', '中', '石', '化', '充', '值', ' ', 'I', 'C', 'A', '亚', '投', '链', '推', '广', '奖', '励', ' ', '矿', '工', '公', '会', 'I', 'C', 'A', '亚', '投', '链', '奖', '励', ' ', '一', '代', ' ', '拿', '直', '推', '收', '益', '总', '产', '量', '的', '5', '%', '低', '于', '直', '推', '算', '力', ' ', '收', '益', '减', '半', '二', '代', ' ', '3', '%', '三', '代', ' ', '1', '%', '一', '星', '会', '长', ' ', '直', '推', '1', '0', '人', ' ', '团', '队', '1', '0', '0', '人', ' ', '工', '会', '算', '力', ' ', '总', '算', '力', '达', '到', '2', '0', 'G', 'H', ' ', 'S', ' ', '送', '小', '型', '矿', '机', '一', '台']\n"
     ]
    }
   ],
   "source": [
    "X_data = [c for c in sample_data[1]]\n",
    "print(X_data)"
   ]
  },
  {
   "cell_type": "code",
   "execution_count": 51,
   "metadata": {
    "ExecuteTime": {
     "end_time": "2019-09-05T03:57:47.657135Z",
     "start_time": "2019-09-05T03:57:47.648087Z"
    }
   },
   "outputs": [
    {
     "data": {
      "text/plain": [
       "'ICA亚投链'"
      ]
     },
     "execution_count": 51,
     "metadata": {},
     "output_type": "execute_result"
    }
   ],
   "source": [
    "get_entity(X_data, pred_label)"
   ]
  },
  {
   "cell_type": "markdown",
   "metadata": {},
   "source": [
    "## 预测测试集"
   ]
  },
  {
   "cell_type": "markdown",
   "metadata": {},
   "source": [
    "### 处理测试集"
   ]
  },
  {
   "cell_type": "code",
   "execution_count": null,
   "metadata": {},
   "outputs": [],
   "source": [
    "def clean_zh(text):\n",
    "    '''清洗文本，保证语句通顺(关于小数点的问题无法处理)'''\n",
    "    text = text.replace(\"（\", \"(\").replace(\"）\", \")\")\n",
    "    punct = string.punctuation + punctuation\n",
    "    punct = \"\".join([c for c in punct if c not in [\".\", \"、\", \"%\", \"“\", \"”\", \"(\", \")\", \"！\", \"。\", \"？\"]])\n",
    "    text = re.sub(r\"[%s]+\" % punct, \" \", text)\n",
    "    # 将引号替换\n",
    "    text = re.sub(r\"[%s]+\" % \"“”()\", \"\", text)\n",
    "    text = re.sub(r\"[%s]+\" % \"：\", \" \", text)\n",
    "    # 多个空格替换成一个\n",
    "    text = re.sub(' +', ' ', text)\n",
    "    return text\n",
    "\n",
    "def clean_data(text):\n",
    "    \"\"\"清理各种脏数据\"\"\"\n",
    "    for p in pattern:\n",
    "        text = re.sub(p, \"\", text)\n",
    "    text = clean_zh(text)\n",
    "    return text"
   ]
  },
  {
   "cell_type": "code",
   "execution_count": 56,
   "metadata": {
    "ExecuteTime": {
     "end_time": "2019-09-05T04:29:39.654532Z",
     "start_time": "2019-09-05T04:29:34.815255Z"
    }
   },
   "outputs": [],
   "source": [
    "df_test[\"title\"] = df_test[\"title\"].map(lambda x: clean_data(x))\n",
    "df_test[\"text\"] = df_test[\"text\"].map(lambda x: clean_data(x))"
   ]
  },
  {
   "cell_type": "code",
   "execution_count": 62,
   "metadata": {
    "ExecuteTime": {
     "end_time": "2019-09-05T04:30:34.470127Z",
     "start_time": "2019-09-05T04:30:34.439130Z"
    }
   },
   "outputs": [],
   "source": [
    "df_test[\"new_text\"] = df_test[\"title\"]  + \" \" + df_test[\"text\"]"
   ]
  },
  {
   "cell_type": "code",
   "execution_count": 63,
   "metadata": {
    "ExecuteTime": {
     "end_time": "2019-09-05T04:30:36.728419Z",
     "start_time": "2019-09-05T04:30:36.710158Z"
    }
   },
   "outputs": [
    {
     "data": {
      "text/html": [
       "<div>\n",
       "<style scoped>\n",
       "    .dataframe tbody tr th:only-of-type {\n",
       "        vertical-align: middle;\n",
       "    }\n",
       "\n",
       "    .dataframe tbody tr th {\n",
       "        vertical-align: top;\n",
       "    }\n",
       "\n",
       "    .dataframe thead th {\n",
       "        text-align: right;\n",
       "    }\n",
       "</style>\n",
       "<table border=\"1\" class=\"dataframe\">\n",
       "  <thead>\n",
       "    <tr style=\"text-align: right;\">\n",
       "      <th></th>\n",
       "      <th>id</th>\n",
       "      <th>title</th>\n",
       "      <th>text</th>\n",
       "      <th>new_text</th>\n",
       "    </tr>\n",
       "  </thead>\n",
       "  <tbody>\n",
       "    <tr>\n",
       "      <th>0</th>\n",
       "      <td>83dcefb7</td>\n",
       "      <td>时空周转公众注册 当天秒下</td>\n",
       "      <td>时空周转是一款非常靠谱的小额现金快捷贷款平台。时空周转贷款申请到下款全过程都是在手机上完成的...</td>\n",
       "      <td>时空周转公众注册 当天秒下 时空周转是一款非常靠谱的小额现金快捷贷款平台。时空周转贷款申请到...</td>\n",
       "    </tr>\n",
       "    <tr>\n",
       "      <th>1</th>\n",
       "      <td>1ad5be0d</td>\n",
       "      <td>抢红包、做任务、缺销路、缺人脉、推广产品 来这就对了 兼职赚钱 聚集人脉</td>\n",
       "      <td>本篇文章将对两种人群进行分析 一种是不做任何项目 只撸些APP拉新 做做任务赚钱的纯羊毛党 ...</td>\n",
       "      <td>抢红包、做任务、缺销路、缺人脉、推广产品 来这就对了 兼职赚钱 聚集人脉  本篇文章将对两种...</td>\n",
       "    </tr>\n",
       "    <tr>\n",
       "      <th>2</th>\n",
       "      <td>6dd28e9b</td>\n",
       "      <td></td>\n",
       "      <td>2019健康行业趋势 住家创业 稳赚不亏</td>\n",
       "      <td>2019健康行业趋势 住家创业 稳赚不亏</td>\n",
       "    </tr>\n",
       "    <tr>\n",
       "      <th>3</th>\n",
       "      <td>f3b61b38</td>\n",
       "      <td>CCM区块链商城PPT介绍</td>\n",
       "      <td>CCM区块链商介绍CCM3 0我们会开启CCM矿石的互转流通 和支持商家入驻 到时候大家有自...</td>\n",
       "      <td>CCM区块链商城PPT介绍 CCM区块链商介绍CCM3 0我们会开启CCM矿石的互转流通 和...</td>\n",
       "    </tr>\n",
       "    <tr>\n",
       "      <th>4</th>\n",
       "      <td>84b12bae</td>\n",
       "      <td>加密数字货币里大家都赚钱 钱是从哪里来的？</td>\n",
       "      <td>我最近去分享艾尔链LAC加密数字货币时 有很多朋友都对我轻蔑一笑 或者抱着怀疑的态度 经常拿...</td>\n",
       "      <td>加密数字货币里大家都赚钱 钱是从哪里来的？ 我最近去分享艾尔链LAC加密数字货币时 有很多朋...</td>\n",
       "    </tr>\n",
       "  </tbody>\n",
       "</table>\n",
       "</div>"
      ],
      "text/plain": [
       "         id                                  title  \\\n",
       "0  83dcefb7                          时空周转公众注册 当天秒下   \n",
       "1  1ad5be0d  抢红包、做任务、缺销路、缺人脉、推广产品 来这就对了 兼职赚钱 聚集人脉    \n",
       "2  6dd28e9b                                          \n",
       "3  f3b61b38                          CCM区块链商城PPT介绍   \n",
       "4  84b12bae                  加密数字货币里大家都赚钱 钱是从哪里来的？   \n",
       "\n",
       "                                                text  \\\n",
       "0  时空周转是一款非常靠谱的小额现金快捷贷款平台。时空周转贷款申请到下款全过程都是在手机上完成的...   \n",
       "1  本篇文章将对两种人群进行分析 一种是不做任何项目 只撸些APP拉新 做做任务赚钱的纯羊毛党 ...   \n",
       "2                               2019健康行业趋势 住家创业 稳赚不亏   \n",
       "3  CCM区块链商介绍CCM3 0我们会开启CCM矿石的互转流通 和支持商家入驻 到时候大家有自...   \n",
       "4  我最近去分享艾尔链LAC加密数字货币时 有很多朋友都对我轻蔑一笑 或者抱着怀疑的态度 经常拿...   \n",
       "\n",
       "                                            new_text  \n",
       "0  时空周转公众注册 当天秒下 时空周转是一款非常靠谱的小额现金快捷贷款平台。时空周转贷款申请到...  \n",
       "1  抢红包、做任务、缺销路、缺人脉、推广产品 来这就对了 兼职赚钱 聚集人脉  本篇文章将对两种...  \n",
       "2                               2019健康行业趋势 住家创业 稳赚不亏  \n",
       "3  CCM区块链商城PPT介绍 CCM区块链商介绍CCM3 0我们会开启CCM矿石的互转流通 和...  \n",
       "4  加密数字货币里大家都赚钱 钱是从哪里来的？ 我最近去分享艾尔链LAC加密数字货币时 有很多朋...  "
      ]
     },
     "execution_count": 63,
     "metadata": {},
     "output_type": "execute_result"
    }
   ],
   "source": [
    "df_test.head()"
   ]
  },
  {
   "cell_type": "code",
   "execution_count": 64,
   "metadata": {
    "ExecuteTime": {
     "end_time": "2019-09-05T04:30:40.955068Z",
     "start_time": "2019-09-05T04:30:40.947846Z"
    }
   },
   "outputs": [
    {
     "data": {
      "text/plain": [
       "(4998, 4)"
      ]
     },
     "execution_count": 64,
     "metadata": {},
     "output_type": "execute_result"
    }
   ],
   "source": [
    "df_test.shape"
   ]
  },
  {
   "cell_type": "code",
   "execution_count": 65,
   "metadata": {
    "ExecuteTime": {
     "end_time": "2019-09-05T04:30:44.183591Z",
     "start_time": "2019-09-05T04:30:44.174293Z"
    }
   },
   "outputs": [],
   "source": [
    "# 对测试集的文本进行分割，担心正文内容太长\n",
    "def split_text(seq_list, maxlen):\n",
    "    res = []\n",
    "    for tuple_ in seq_list:\n",
    "        id = tuple_[0]\n",
    "        if len(tuple_[1]) > maxlen:\n",
    "            num_sent = len(tuple_[1]) // maxlen\n",
    "            if len(tuple_[1]) % maxlen != 0:\n",
    "                num_sent += 1\n",
    "            for i in range(num_sent):\n",
    "                res.append((id, tuple_[1][i*maxlen: (i+1)*maxlen]))\n",
    "        else:\n",
    "            res.append((id, tuple_[1]))\n",
    "    return res"
   ]
  },
  {
   "cell_type": "code",
   "execution_count": 68,
   "metadata": {
    "ExecuteTime": {
     "end_time": "2019-09-05T04:31:50.238640Z",
     "start_time": "2019-09-05T04:31:50.232330Z"
    }
   },
   "outputs": [],
   "source": [
    "def get_test_data():\n",
    "    test_data = []\n",
    "    for id, c in zip(df_test[\"id\"], df_test[\"new_text\"]):\n",
    "        test_data.append((id, c))\n",
    "    return test_data"
   ]
  },
  {
   "cell_type": "code",
   "execution_count": 69,
   "metadata": {
    "ExecuteTime": {
     "end_time": "2019-09-05T04:31:50.820134Z",
     "start_time": "2019-09-05T04:31:50.808412Z"
    }
   },
   "outputs": [],
   "source": [
    "test_d = get_test_data()"
   ]
  },
  {
   "cell_type": "code",
   "execution_count": 70,
   "metadata": {
    "ExecuteTime": {
     "end_time": "2019-09-05T04:31:58.793146Z",
     "start_time": "2019-09-05T04:31:58.785686Z"
    }
   },
   "outputs": [
    {
     "data": {
      "text/plain": [
       "4998"
      ]
     },
     "execution_count": 70,
     "metadata": {},
     "output_type": "execute_result"
    }
   ],
   "source": [
    "len(test_d)"
   ]
  },
  {
   "cell_type": "code",
   "execution_count": 71,
   "metadata": {
    "ExecuteTime": {
     "end_time": "2019-09-05T04:32:09.610459Z",
     "start_time": "2019-09-05T04:32:09.603930Z"
    }
   },
   "outputs": [
    {
     "data": {
      "text/plain": [
       "512"
      ]
     },
     "execution_count": 71,
     "metadata": {},
     "output_type": "execute_result"
    }
   ],
   "source": [
    "maxlen"
   ]
  },
  {
   "cell_type": "code",
   "execution_count": 72,
   "metadata": {
    "ExecuteTime": {
     "end_time": "2019-09-05T04:32:13.443385Z",
     "start_time": "2019-09-05T04:32:13.411916Z"
    }
   },
   "outputs": [],
   "source": [
    "test_res = split_text(test_d, maxlen)"
   ]
  },
  {
   "cell_type": "code",
   "execution_count": 75,
   "metadata": {
    "ExecuteTime": {
     "end_time": "2019-09-05T04:35:17.461315Z",
     "start_time": "2019-09-05T04:35:17.454315Z"
    }
   },
   "outputs": [
    {
     "data": {
      "text/plain": [
       "('83dcefb7',\n",
       " '时空周转公众注册 当天秒下 时空周转是一款非常靠谱的小额现金快捷贷款平台。时空周转贷款申请到下款全过程都是在手机上完成的。扫一扫 立即申请时空周转app功能1、极速放款 自动审核、极速放款、实时到账 2、流程简单 在线填写资料 芝麻信用授权即可贷款 3、信息安全 数据库加密技术、保护借款人隐私 4、随借随还 无论何时何地、借款轻松 还款便捷。时空周转app亮点1、闪电借款 纯线上自动化审核 快至30分钟到账 2、额度灵活 单期借款、现金分期 万元额度任你选。3、门槛超低 无门槛、无担保 有身份证即可借款。关注我们 更多口子信息问 有人在时空周转借款过吗答 时空周转正常情况下2 3小时以内 也有特殊情况。问 时空周转贷款审核需要多少时间 时空周转贷款审核时间多长答 提前还款后 也还是能继续在时空周转借款的。问 时空周转没有还清还可以申请吗？答 时空周转！不需要太多的条件 借款也很快！问 时空周转真的像广告里面说的没有信用卡也能贷款吗答 用过 不是的 时空周转最大的好处就是可以节省分期的手续费问 时空周转好用吗时空周转 使用的人多不多啊答 时空周转它的手续费是比较低的 而且还款压力也比较小的。低于银行七哩八。5万')"
      ]
     },
     "execution_count": 75,
     "metadata": {},
     "output_type": "execute_result"
    }
   ],
   "source": [
    "test_res[0]"
   ]
  },
  {
   "cell_type": "code",
   "execution_count": 74,
   "metadata": {
    "ExecuteTime": {
     "end_time": "2019-09-05T04:35:09.588152Z",
     "start_time": "2019-09-05T04:35:09.581498Z"
    }
   },
   "outputs": [
    {
     "data": {
      "text/plain": [
       "12235"
      ]
     },
     "execution_count": 74,
     "metadata": {},
     "output_type": "execute_result"
    }
   ],
   "source": [
    "len(test_res)"
   ]
  },
  {
   "cell_type": "code",
   "execution_count": 73,
   "metadata": {
    "ExecuteTime": {
     "end_time": "2019-09-05T04:35:06.986729Z",
     "start_time": "2019-09-05T04:35:04.013365Z"
    }
   },
   "outputs": [],
   "source": [
    "sub_id = []\n",
    "sub_text = []\n",
    "sub_X1 = []\n",
    "sub_X2 = []\n",
    "for tuple_ in test_res:\n",
    "    sub_id.append(tuple_[0])\n",
    "    x1, x2 = tokenizer.encode(first=tuple_[1])\n",
    "    sub_X1.append(x1)\n",
    "    sub_X2.append(x2)\n",
    "    sub_text.append(tuple_[1])\n",
    "sub_X1 = keras.preprocessing.sequence.pad_sequences(maxlen=maxlen, sequences=sub_X1, padding=\"post\", value=0)\n",
    "sub_X2 = keras.preprocessing.sequence.pad_sequences(maxlen=maxlen, sequences=sub_X2, padding=\"post\", value=0)"
   ]
  },
  {
   "cell_type": "code",
   "execution_count": 76,
   "metadata": {
    "ExecuteTime": {
     "end_time": "2019-09-05T04:35:30.308948Z",
     "start_time": "2019-09-05T04:35:30.302899Z"
    }
   },
   "outputs": [],
   "source": [
    "bs = 64\n",
    "steps = len(sub_id) // bs\n",
    "if len(sub_id) % bs != 0:\n",
    "    steps += 1"
   ]
  },
  {
   "cell_type": "code",
   "execution_count": 77,
   "metadata": {
    "ExecuteTime": {
     "end_time": "2019-09-05T04:44:27.480092Z",
     "start_time": "2019-09-05T04:35:48.519124Z"
    }
   },
   "outputs": [
    {
     "name": "stderr",
     "output_type": "stream",
     "text": [
      "100%|██████████| 192/192 [08:38<00:00,  2.15s/it]\n"
     ]
    }
   ],
   "source": [
    "result_all = []\n",
    "for i in tqdm(range(steps)):\n",
    "    batch_id = sub_id[i*bs:(i+1)*bs]\n",
    "    batch_text = sub_text[i*bs:(i+1)*bs]\n",
    "    batch_X1 = sub_X1[i*bs:(i+1)*bs]\n",
    "    batch_X2 = sub_X2[i*bs:(i+1)*bs]\n",
    "    batch_pred = model.predict([batch_X1, batch_X2])\n",
    "    batch_pred = np.argmax(batch_pred, axis=-1).tolist()\n",
    "    for id, text, pred in zip(batch_id, batch_text, batch_pred):\n",
    "        pred_label = [idx2tag[i] for i in pred]\n",
    "        x_data = [c for c in text]\n",
    "        entity = get_entity(x_data, pred_label)\n",
    "        result_all.append((id, entity))"
   ]
  },
  {
   "cell_type": "code",
   "execution_count": 87,
   "metadata": {
    "ExecuteTime": {
     "end_time": "2019-09-05T04:53:58.631652Z",
     "start_time": "2019-09-05T04:53:58.598609Z"
    }
   },
   "outputs": [],
   "source": [
    "last_result = []\n",
    "for tuple_ in result_all:\n",
    "    ner = []\n",
    "    for word in tuple_[1].split(\" \"):\n",
    "        if len(word) > 2:\n",
    "            ner.append(word)\n",
    "    last_result.append((tuple_[0], \" \".join(ner)))"
   ]
  },
  {
   "cell_type": "code",
   "execution_count": 88,
   "metadata": {
    "ExecuteTime": {
     "end_time": "2019-09-05T04:54:03.325160Z",
     "start_time": "2019-09-05T04:54:03.318038Z"
    },
    "scrolled": true
   },
   "outputs": [
    {
     "data": {
      "text/plain": [
       "('83dcefb7', '时空周转 时空周转')"
      ]
     },
     "execution_count": 88,
     "metadata": {},
     "output_type": "execute_result"
    }
   ],
   "source": [
    "last_result[0]"
   ]
  },
  {
   "cell_type": "code",
   "execution_count": 89,
   "metadata": {
    "ExecuteTime": {
     "end_time": "2019-09-05T04:55:03.861617Z",
     "start_time": "2019-09-05T04:55:03.830377Z"
    }
   },
   "outputs": [],
   "source": [
    "res_dict = dict()\n",
    "for tuple_ in last_result:\n",
    "    if tuple_[0] not in res_dict:\n",
    "        res_dict[tuple_[0]] = tuple_[1].split(\" \")\n",
    "    else:\n",
    "        res_dict[tuple_[0]] = res_dict[tuple_[0]] + tuple_[1].split(\" \")"
   ]
  },
  {
   "cell_type": "code",
   "execution_count": 84,
   "metadata": {
    "ExecuteTime": {
     "end_time": "2019-09-05T04:46:37.752349Z",
     "start_time": "2019-09-05T04:46:37.745531Z"
    }
   },
   "outputs": [
    {
     "data": {
      "text/plain": [
       "4998"
      ]
     },
     "execution_count": 84,
     "metadata": {},
     "output_type": "execute_result"
    }
   ],
   "source": [
    "len(test_d)"
   ]
  },
  {
   "cell_type": "code",
   "execution_count": 92,
   "metadata": {
    "ExecuteTime": {
     "end_time": "2019-09-05T05:00:20.154002Z",
     "start_time": "2019-09-05T05:00:20.146278Z"
    }
   },
   "outputs": [
    {
     "data": {
      "text/plain": [
       "'w'"
      ]
     },
     "execution_count": 92,
     "metadata": {},
     "output_type": "execute_result"
    }
   ],
   "source": []
  },
  {
   "cell_type": "code",
   "execution_count": 90,
   "metadata": {
    "ExecuteTime": {
     "end_time": "2019-09-05T04:55:13.687039Z",
     "start_time": "2019-09-05T04:55:13.654892Z"
    }
   },
   "outputs": [],
   "source": [
    "last_res = []\n",
    "with open(\"/home/wangwei/tf_workdir/word_detect/submit_test.csv\", \"w\", encoding='utf-8') as f:\n",
    "    for i in test_d:\n",
    "        key = i[0]\n",
    "        value = res_dict[key]\n",
    "        value = \";\".join(list(set(value)))\n",
    "        f.write(key+','+value+\"\\n\")"
   ]
  },
  {
   "cell_type": "code",
   "execution_count": 91,
   "metadata": {
    "ExecuteTime": {
     "end_time": "2019-09-05T04:57:13.949558Z",
     "start_time": "2019-09-05T04:57:13.917933Z"
    }
   },
   "outputs": [],
   "source": [
    "with codecs.open(\"/home/wangwei/tf_workdir/word_detect/submit_test1.csv\", \"w\", encoding=\"utf-8\") as f:\n",
    "    for i in test_d:\n",
    "        key = i[0]\n",
    "        value = res_dict[key]\n",
    "        value = \";\".join(list(set(value)))\n",
    "        f.write(key+','+value+\"\\n\")"
   ]
  },
  {
   "cell_type": "markdown",
   "metadata": {},
   "source": [
    "### 处理测试集2"
   ]
  },
  {
   "cell_type": "code",
   "execution_count": 93,
   "metadata": {
    "ExecuteTime": {
     "end_time": "2019-09-05T05:07:56.925583Z",
     "start_time": "2019-09-05T05:07:52.394191Z"
    }
   },
   "outputs": [],
   "source": [
    "df_test[\"title\"] = df_test[\"title\"].map(lambda x: clean_data(x))\n",
    "df_test[\"text\"] = df_test[\"text\"].map(lambda x: clean_data(x))"
   ]
  },
  {
   "cell_type": "code",
   "execution_count": 114,
   "metadata": {
    "ExecuteTime": {
     "end_time": "2019-09-05T05:33:18.485167Z",
     "start_time": "2019-09-05T05:33:18.473832Z"
    }
   },
   "outputs": [
    {
     "data": {
      "text/plain": [
       "array(['SMRT 智慧地球2010年由全美零售业联盟会、新兴市场基金会简称EMF发起研发 基金会团队分布在美国硅谷、巴黎、韩国、印度 四大研发中心号上线 智慧地球🌍首先呢？它不是一个单线平台、是基于多个模块、分不同阶段不同地区和国家进行、相互独立又相互依存、所以说呢地球🌍不是一个简单的拆分、拆分只不过是前期的一部个启动器而已、分区块连🌍社交软件APP浏览器等、商业板块 学习模块、游戏道具交易买卖板块、数字货币交易网站的打造、像火币网一样的数字货币三大交易平台打造、新加坡 迪拜、马耳它、亚洲国家一个中东国家一个欧洲国家一个、自然界 区块链数字货币的打造！作为地球🌍多国渡全生态 交易的价值媒介 实现全球点对点交易无障碍通道 不同模块在不同阶段适时推出为地球🌍每个阶段更好的发展、地球🌍平台志向高远、目前许多玩家仅仅停留在或了解到的只是地球的初级阶段的一小部分东西 地球志向高远 早已经走在了时代的前沿 表面上是一种新的数据结构与计算方式 但其核心价值在于重塑人类交易方式和共识机制 智慧地球🌍每个板块都是一环扣一环环环相扣 未来5个发展阶段和布局结构全部提前规划出行路线和技术的储备 适时推出即可 跟着路线走就行 1️⃣第一阶段SmartGlobe的研发设计 初始建设者招募与教育 也就是玩家的培育 打好根基的意思2️⃣SmartGlobe正式面世 努力打造Z频道链接Amazon 将趣味购物 利润均享的先进理念带入新兴市场区块链APP社交软件和浏览器等3️⃣阶段当建设者 消费者总量达到5万人 SmartGoble智慧地球建设初具规模 开放20万EP的商业单元 审核通过的建设者自有品牌商家便可自主开设一个面向5万人存量消费者的特色商铺。同时 战略合作专用的即时通讯工具上线 方便交易方线上沟通 方便各支SmartGoble建设分队学习交流、包括三国区块链数字交易平台上线运营、自然界 数字货币全球点对点交易支付媒介及数字资产、商品全球买全球卖全球支付体系的建设。4️⃣当建设者 消费者总量达到50万人 开放50万EP的通讯单元 Z频道独立剥离 引入风投或采用众筹模式 推向资本市场5️⃣管委会可控基金达到一定规模 借由专业投资团队 介入优势产业、物色包装有潜力的优质企业。让SmartGlobe以资本的力量 引发共存共赢的理念在全球传播！SmartGlobe优秀的建设者将有优先权 畅享源源不断的资本盛宴。'],\n",
       "      dtype=object)"
      ]
     },
     "execution_count": 114,
     "metadata": {},
     "output_type": "execute_result"
    }
   ],
   "source": [
    "df_test[df_test[\"id\"] == \"1414e381\"][\"text\"].values"
   ]
  },
  {
   "cell_type": "code",
   "execution_count": 136,
   "metadata": {
    "ExecuteTime": {
     "end_time": "2019-09-05T05:48:38.527965Z",
     "start_time": "2019-09-05T05:48:38.511216Z"
    }
   },
   "outputs": [
    {
     "data": {
      "text/plain": [
       "array([' 公告 上银基金管理有限公司 上银中债1 3年农发行债券指数 关于上银中债1 3年农发行债券指数证券投资基金提前结束募集的公告时间 中财网上银基金管理有限公司关于上银中债1 3年农发行债券指数证券投资基金提前结束募集的公告上银中债1 3年农发行债券指数证券投资基金基金简称 上银中债13年农发行债券指数 基金代码 007390 以下简称本基金于经中国证监会证监许可 2019 548号文准予注册募集。本基金已于起开始募集 原定募集截止日为。为充分保护基金份额持有人利益 根据目前本基金销售情况及、、的有关规定 经与本基金托管人股份有限公司协商一致 上银基金管理有限公司决定提前结束本基金的募集 募集截止日提前至 自含当日起不再接受认购申请。敬请投资者留意。投资者可以通过以下途径咨询本基金其他有关信息 1、上银基金管理有限公司客户服务电话 021602319992、上银基金管理有限公司网站 www boscam com cn风险提示 基金管理人承诺以诚实信用、勤勉尽责的原则管理和运用基金资产 但不保证基金一定盈利 也不保证最低收益。投资者投资于本基金前应认真阅读本基金的基金合同和招募说明书。敬请投资者注意投资风险。特此公告上银基金管理有限公司二〇一九年六月十八日 中财网'],\n",
       "      dtype=object)"
      ]
     },
     "execution_count": 136,
     "metadata": {},
     "output_type": "execute_result"
    }
   ],
   "source": [
    "df_test[df_test[\"id\"] == \"5a8717fa\"][\"text\"].values"
   ]
  },
  {
   "cell_type": "code",
   "execution_count": 119,
   "metadata": {
    "ExecuteTime": {
     "end_time": "2019-09-05T05:35:58.049427Z",
     "start_time": "2019-09-05T05:35:58.008664Z"
    }
   },
   "outputs": [],
   "source": [
    "test_data = []\n",
    "for id, title, text in zip(df_test[\"id\"], df_test[\"title\"], df_test[\"text\"]):\n",
    "    p = re.compile(u\"[^a-zA-Z0-9\\u4e00-\\u9fa5]\")\n",
    "    line = p.sub(' ',line)\n",
    "    line = re.sub(' +', ' ', line)\n",
    "    test_data.append((id, text))"
   ]
  },
  {
   "cell_type": "code",
   "execution_count": 120,
   "metadata": {
    "ExecuteTime": {
     "end_time": "2019-09-05T05:36:12.472960Z",
     "start_time": "2019-09-05T05:36:12.465903Z"
    },
    "scrolled": true
   },
   "outputs": [
    {
     "data": {
      "text/plain": [
       "9226"
      ]
     },
     "execution_count": 120,
     "metadata": {},
     "output_type": "execute_result"
    }
   ],
   "source": [
    "len(test_data)"
   ]
  },
  {
   "cell_type": "code",
   "execution_count": 126,
   "metadata": {
    "ExecuteTime": {
     "end_time": "2019-09-05T05:37:20.968560Z",
     "start_time": "2019-09-05T05:37:20.960859Z"
    },
    "scrolled": true
   },
   "outputs": [
    {
     "data": {
      "text/plain": [
       "('1ad5be0d',\n",
       " '本篇文章将对两种人群进行分析 一种是不做任何项目 只撸些APP拉新 做做任务赚钱的纯羊毛党 另一种是做项目 带团队的专职网赚者 通过本篇文章 你们会知道这才是你想要的东西 首先讲纯羊毛党 打开此款APP 我发现 这里真是纯羊毛党的天堂 对于羊毛党 我只介绍这两个功能 1 红包大厅 有做项目的为了推广项目 会发些图方广告 以红包的形式 你只要观看10秒 就能抢到红包 对于羊毛党来说 向来是以量取胜的 而且你若有心 你会发现不少的优质项目 一手资源如图 2 任务大厅 就跟其它比如蚂蚁 牛帮 众人帮等任务平台一样 这里可以发任务 接任务 价格也不错 最有突出的一个就是有朋友圈任务 简单转发到朋友圈 最低是1元 条 两三块 条的也有 每天光接这些任务 都够你一天几十的了 如图 3 这里要顺便说下我的微信群 大家都知道 每个任务平台收徒弟 徒弟完成任务 师傅是有奖励的 之前我建立了众人帮 牛帮 余赚网 闲趣赚这几个平台的徒弟群 每天返70%的奖励给大家 得到了很好的效果 大家做任务都很积极 也得到了更多的奖励 现在我又单独建立了全民推的群 因为我发现全民推 在我开通了金牌站长 VIP会员后 我能得到徒弟30%的奖励 所以 这个数字是非常可观的 为此 请做任务的兄弟们 一定要走我链接 加我微信 进群享高额分红 每天红包雨让你爽翻天 往下拉 加我微信进群 第二种人群 专职网赚带队干项目的为什么一定要来这里呢请先听下我的故事 最近我手上有不少的好项目 却一直建立不起来一个更大的团队 思前思后 主要是没有找到可以引流的池子 一直到我有天看朋友圈发现有人在推广这个APP 下载之后才发现这里是真正的流量池 好了 我只说到这 干项目的都不是傻子 我只发点图给你们看 其它自己揣摩 第一张 请注意 数字 1 79亿 再看中间广告页的点击率 这上面是不断刷新的这一张 是加粉中心页面 可以把自己微信 群 小程序 公众号 甚至货源发上去综上所述 我觉得全民推这款APP是值得大家下载安装的 点击左下角阅读原文做任务的伙伴们记得加我微信进群享每日70%分红 有钱大家一起赚才是正确的操作方式 跟我干有钱赚点击 阅读原文 注册▼往期精彩回顾▼淘宝评价自动变现小而美的项目全国招收云闪付推广员 18元 单 一单一结手机端POS机 店小友 手机就是POS机 央行支付牌照 用友集团旗下 值得拥有软银支付是什么有了店小友 我为什么还要推广软银支付')"
      ]
     },
     "execution_count": 126,
     "metadata": {},
     "output_type": "execute_result"
    }
   ],
   "source": [
    "test_data[3]"
   ]
  },
  {
   "cell_type": "code",
   "execution_count": 127,
   "metadata": {
    "ExecuteTime": {
     "end_time": "2019-09-05T05:37:33.965221Z",
     "start_time": "2019-09-05T05:37:32.665306Z"
    }
   },
   "outputs": [],
   "source": [
    "sub_id = []\n",
    "sub_text = []\n",
    "sub_X1 = []\n",
    "sub_X2 = []\n",
    "for tuple_ in test_data:\n",
    "    sub_id.append(tuple_[0])\n",
    "    x1, x2 = tokenizer.encode(first=tuple_[1][:maxlen])\n",
    "    sub_X1.append(x1)\n",
    "    sub_X2.append(x2)\n",
    "    sub_text.append(tuple_[1])\n",
    "sub_X1 = keras.preprocessing.sequence.pad_sequences(maxlen=maxlen, sequences=sub_X1, padding=\"post\", value=0)\n",
    "sub_X2 = keras.preprocessing.sequence.pad_sequences(maxlen=maxlen, sequences=sub_X2, padding=\"post\", value=0)"
   ]
  },
  {
   "cell_type": "code",
   "execution_count": 128,
   "metadata": {
    "ExecuteTime": {
     "end_time": "2019-09-05T05:37:33.970693Z",
     "start_time": "2019-09-05T05:37:33.967536Z"
    }
   },
   "outputs": [],
   "source": [
    "bs = 64\n",
    "steps = len(sub_id) // bs\n",
    "if len(sub_id) % bs != 0:\n",
    "    steps += 1"
   ]
  },
  {
   "cell_type": "code",
   "execution_count": 129,
   "metadata": {
    "ExecuteTime": {
     "end_time": "2019-09-05T05:44:07.909387Z",
     "start_time": "2019-09-05T05:37:34.646402Z"
    }
   },
   "outputs": [
    {
     "name": "stderr",
     "output_type": "stream",
     "text": [
      "100%|██████████| 145/145 [06:33<00:00,  2.17s/it]\n"
     ]
    }
   ],
   "source": [
    "result_all = []\n",
    "for i in tqdm(range(steps)):\n",
    "    batch_id = sub_id[i*bs:(i+1)*bs]\n",
    "    batch_text = sub_text[i*bs:(i+1)*bs]\n",
    "    batch_X1 = sub_X1[i*bs:(i+1)*bs]\n",
    "    batch_X2 = sub_X2[i*bs:(i+1)*bs]\n",
    "    batch_pred = model.predict([batch_X1, batch_X2])\n",
    "    batch_pred = np.argmax(batch_pred, axis=-1).tolist()\n",
    "    for id, text, pred in zip(batch_id, batch_text, batch_pred):\n",
    "        pred_label = [idx2tag[i] for i in pred]\n",
    "        x_data = [c for c in text]\n",
    "        entity = get_entity(x_data, pred_label)\n",
    "        result_all.append((id, entity))"
   ]
  },
  {
   "cell_type": "code",
   "execution_count": 135,
   "metadata": {
    "ExecuteTime": {
     "end_time": "2019-09-05T05:46:54.588870Z",
     "start_time": "2019-09-05T05:46:54.572605Z"
    },
    "scrolled": true
   },
   "outputs": [
    {
     "data": {
      "text/plain": [
       "[('982e5921', ''),\n",
       " ('982e5921', ''),\n",
       " ('0127089b', '凤推'),\n",
       " ('0127089b', '凤推'),\n",
       " ('7620380d', '比特挖矿 比特挖'),\n",
       " ('7620380d', ' 矿机 比特挖矿'),\n",
       " ('e69f259c', '简啦啦'),\n",
       " ('e69f259c', '简啦啦'),\n",
       " ('9198150a', 'fxcm'),\n",
       " ('f15f9cef', '创富国际有限公司 国付宝信息 国付宝 国付宝信息科技有限公司 创富国际'),\n",
       " ('8658ac79', '行聊 ctb'),\n",
       " ('1f51fdc3', '腾邦现货'),\n",
       " ('1f51fdc3', '腾邦集团 腾邦 腾邦现货'),\n",
       " ('6856cd55', ''),\n",
       " ('6856cd55', ''),\n",
       " ('f63258f6', '三立集团'),\n",
       " ('81356860', ''),\n",
       " ('81356860', ''),\n",
       " ('183c39da', '恐'),\n",
       " ('183c39da', ' 鼎泽'),\n",
       " ('6f3b094c', '华盛资本'),\n",
       " ('6f3b094c', '华盛资本'),\n",
       " ('ff8414dd', '金融危'),\n",
       " ('ff8414dd', '金融'),\n",
       " ('8883244b', '盾安债甩券 合晟资产'),\n",
       " ('8883244b', '盾安 败。盾安 持有盾安债 踩雷盾安债 盾安债 前 泓德基金 盾安集'),\n",
       " ('da72cf2c', '淘钱宝'),\n",
       " ('da72cf2c', '多米 淘钱宝'),\n",
       " ('ad75ffba', '爱乐在线'),\n",
       " ('ad75ffba', '爱乐在线 张先生'),\n",
       " ('347cae00', '商机头条'),\n",
       " ('347cae00', '商机头条'),\n",
       " ('437b9e96', '素店'),\n",
       " ('437b9e96', '素店 靠吗素店 妮素国际'),\n",
       " ('dd1f0b35', ''),\n",
       " ('dd1f0b35', '华润信托'),\n",
       " ('aa183ba3', '比特币 IPFS存储'),\n",
       " ('aa183ba3', '比特币'),\n",
       " ('33116a19', '宝网贷'),\n",
       " ('33116a19', '收获宝'),\n",
       " ('44165a8f', '龙腾盛世'),\n",
       " ('44165a8f', '轮回 新客兑 新客 保德薪'),\n",
       " ('d4a9471e', '汇新智'),\n",
       " ('d4a9471e', '汇新智'),\n",
       " ('a3ae7788', '莱茨狗 区块链'),\n",
       " ('a3ae7788', '莱茨狗'),\n",
       " ('c369fe6d', '凯富创通'),\n",
       " ('c369fe6d', '凯富创通'),\n",
       " ('b46ecefb', ''),\n",
       " ('b46ecefb', ''),\n",
       " ('2d679f41', '趣步 链信'),\n",
       " ('2d679f41', 'APP 趣步 亦跑 链信'),\n",
       " ('5a60afd7', 'lt'),\n",
       " ('5a60afd7', '明堂金融 景山 明堂期货'),\n",
       " ('c4043a74', '英皇金融国 英皇金融国际'),\n",
       " ('c4043a74', '英皇金融 英皇金融国际'),\n",
       " ('b3030ae2', 'HUSDToken 火币钱包 火币'),\n",
       " ('b3030ae2', 'HUSDToken 火币钱包 火币'),\n",
       " ('2a0a5b58', '网商万宝'),\n",
       " ('2a0a5b58', '鲨鱼记账 网商万宝 网商'),\n",
       " ('5d0d6bce', '华景无限 华景无限逍遥卡'),\n",
       " ('5d0d6bce', '无限 华景城 华景无限逍遥卡 华景无限旅游 华景无限 华景无限逍'),\n",
       " ('cdb2765f', '国金中融'),\n",
       " ('cdb2765f', '臻鼎投资  国金中融 国金中融 臻鼎'),\n",
       " ('bab546c9', '顺德农商 中国中投 广东顺高投 欧浦小贷'),\n",
       " ('44f1e2a2', '易信easymarkets平台'),\n",
       " ('33f6d234', '国美'),\n",
       " ('33f6d234', '美美 国美在线 国美控股 美美理财 国美 国美在线金融 美易'),\n",
       " ('aaff838e', ''),\n",
       " ('aaff838e', 'P2 芒果金融'),\n",
       " ('ddf8b318', '之道 人人 云联惠 云商'),\n",
       " ('439c26bb', '神店'),\n",
       " ('439c26bb', '神店 神店小'),\n",
       " ('349b162d', '华登 beta'),\n",
       " ('349b162d', '华登 beta'),\n",
       " ('ad924797', '益阳因特网'),\n",
       " ('ad924797', ''),\n",
       " ('da957701', '喜牛'),\n",
       " ('da957701', '喜牛  中 远特喜牛'),\n",
       " ('4a2a6a90', ''),\n",
       " ('4a2a6a90', ''),\n",
       " ('3d2d5a06', ''),\n",
       " ('3d2d5a06', '购房'),\n",
       " ('5dead3e3', 'easyforex易信'),\n",
       " ('5dead3e3', ''),\n",
       " ('2aede375', '恩圣威NCY'),\n",
       " ('b3e4b2cf', '明堂金融 景山 明堂期货'),\n",
       " ('c4e38259', ''),\n",
       " ('c4e38259', '洛阳百事通 百事通'),\n",
       " ('5a8717fa', '上银基金管理有'),\n",
       " ('5a8717fa', '告 上银基金管 财网上银基金管理有限 2、上银基金管理有 致 上银基金管理有限 关于上银 上银基金管理 司 上银'),\n",
       " ('2d80276c', '区块 区块链'),\n",
       " ('2d80276c', '源中瑞 深圳源中瑞科技'),\n",
       " ('b48976d6', '农科农业保险公司、农科融资租赁公司'),\n",
       " ('c38e4640', '恩圣威 艾拓思'),\n",
       " ('53315bd1', 'Finci芬吉'),\n",
       " ('53315bd1', 'Finci芬吉'),\n",
       " ('24366b47', '爱汇宝'),\n",
       " ('3b453440', ''),\n",
       " ('3b453440', '赶街')]"
      ]
     },
     "execution_count": 135,
     "metadata": {},
     "output_type": "execute_result"
    }
   ],
   "source": [
    "result_all[-100:]"
   ]
  },
  {
   "cell_type": "code",
   "execution_count": null,
   "metadata": {},
   "outputs": [],
   "source": [
    "last_result = []\n",
    "for tuple_ in result_all:\n",
    "    ner = []\n",
    "    for word in tuple_[1].split(\" \"):\n",
    "        if len(word) > 2:\n",
    "            ner.append(word)\n",
    "    last_result.append((tuple_[0], \" \".join(ner)))"
   ]
  },
  {
   "cell_type": "code",
   "execution_count": null,
   "metadata": {},
   "outputs": [],
   "source": [
    "# 去除所有半角全角符号，只留字母、数字、中文。\n",
    "def remove_punctuation(line):\n",
    "    p = re.compile(ur\"[^a-zA-Z\\u4e00-\\u9fa5]\")\n",
    "    line = p.sub('',line)\n",
    "    line = re.sub(' +', ' ', line)\n",
    "    return line"
   ]
  },
  {
   "cell_type": "markdown",
   "metadata": {},
   "source": [
    "### 处理测试集3"
   ]
  },
  {
   "cell_type": "code",
   "execution_count": 138,
   "metadata": {
    "ExecuteTime": {
     "end_time": "2019-09-05T05:52:20.006642Z",
     "start_time": "2019-09-05T05:52:15.161236Z"
    }
   },
   "outputs": [],
   "source": [
    "df_test[\"title\"] = df_test[\"title\"].map(lambda x: clean_data(x))\n",
    "df_test[\"text\"] = df_test[\"text\"].map(lambda x: clean_data(x))"
   ]
  },
  {
   "cell_type": "code",
   "execution_count": 139,
   "metadata": {
    "ExecuteTime": {
     "end_time": "2019-09-05T05:52:24.823123Z",
     "start_time": "2019-09-05T05:52:24.804565Z"
    }
   },
   "outputs": [
    {
     "data": {
      "text/html": [
       "<div>\n",
       "<style scoped>\n",
       "    .dataframe tbody tr th:only-of-type {\n",
       "        vertical-align: middle;\n",
       "    }\n",
       "\n",
       "    .dataframe tbody tr th {\n",
       "        vertical-align: top;\n",
       "    }\n",
       "\n",
       "    .dataframe thead th {\n",
       "        text-align: right;\n",
       "    }\n",
       "</style>\n",
       "<table border=\"1\" class=\"dataframe\">\n",
       "  <thead>\n",
       "    <tr style=\"text-align: right;\">\n",
       "      <th></th>\n",
       "      <th>id</th>\n",
       "      <th>title</th>\n",
       "      <th>text</th>\n",
       "    </tr>\n",
       "  </thead>\n",
       "  <tbody>\n",
       "    <tr>\n",
       "      <th>0</th>\n",
       "      <td>83dcefb7</td>\n",
       "      <td>时空周转公众注册 当天秒下</td>\n",
       "      <td>时空周转是一款非常靠谱的小额现金快捷贷款平台。时空周转贷款申请到下款全过程都是在手机上完成的...</td>\n",
       "    </tr>\n",
       "    <tr>\n",
       "      <th>1</th>\n",
       "      <td>1ad5be0d</td>\n",
       "      <td>抢红包、做任务、缺销路、缺人脉、推广产品 来这就对了 兼职赚钱 聚集人脉</td>\n",
       "      <td>本篇文章将对两种人群进行分析 一种是不做任何项目 只撸些APP拉新 做做任务赚钱的纯羊毛党 ...</td>\n",
       "    </tr>\n",
       "    <tr>\n",
       "      <th>2</th>\n",
       "      <td>6dd28e9b</td>\n",
       "      <td></td>\n",
       "      <td>2019健康行业趋势 住家创业 稳赚不亏</td>\n",
       "    </tr>\n",
       "    <tr>\n",
       "      <th>3</th>\n",
       "      <td>f3b61b38</td>\n",
       "      <td>CCM区块链商城PPT介绍</td>\n",
       "      <td>CCM区块链商介绍CCM3 0我们会开启CCM矿石的互转流通 和支持商家入驻 到时候大家有自...</td>\n",
       "    </tr>\n",
       "    <tr>\n",
       "      <th>4</th>\n",
       "      <td>84b12bae</td>\n",
       "      <td>加密数字货币里大家都赚钱 钱是从哪里来的？</td>\n",
       "      <td>我最近去分享艾尔链LAC加密数字货币时 有很多朋友都对我轻蔑一笑 或者抱着怀疑的态度 经常拿...</td>\n",
       "    </tr>\n",
       "  </tbody>\n",
       "</table>\n",
       "</div>"
      ],
      "text/plain": [
       "         id                                  title  \\\n",
       "0  83dcefb7                          时空周转公众注册 当天秒下   \n",
       "1  1ad5be0d  抢红包、做任务、缺销路、缺人脉、推广产品 来这就对了 兼职赚钱 聚集人脉    \n",
       "2  6dd28e9b                                          \n",
       "3  f3b61b38                          CCM区块链商城PPT介绍   \n",
       "4  84b12bae                  加密数字货币里大家都赚钱 钱是从哪里来的？   \n",
       "\n",
       "                                                text  \n",
       "0  时空周转是一款非常靠谱的小额现金快捷贷款平台。时空周转贷款申请到下款全过程都是在手机上完成的...  \n",
       "1  本篇文章将对两种人群进行分析 一种是不做任何项目 只撸些APP拉新 做做任务赚钱的纯羊毛党 ...  \n",
       "2                               2019健康行业趋势 住家创业 稳赚不亏  \n",
       "3  CCM区块链商介绍CCM3 0我们会开启CCM矿石的互转流通 和支持商家入驻 到时候大家有自...  \n",
       "4  我最近去分享艾尔链LAC加密数字货币时 有很多朋友都对我轻蔑一笑 或者抱着怀疑的态度 经常拿...  "
      ]
     },
     "execution_count": 139,
     "metadata": {},
     "output_type": "execute_result"
    }
   ],
   "source": [
    "df_test.head()"
   ]
  },
  {
   "cell_type": "code",
   "execution_count": 147,
   "metadata": {
    "ExecuteTime": {
     "end_time": "2019-09-05T06:02:53.724721Z",
     "start_time": "2019-09-05T06:02:53.626214Z"
    }
   },
   "outputs": [],
   "source": [
    "test_data = []\n",
    "for id, title, text in zip(df_test[\"id\"], df_test[\"title\"], df_test[\"text\"]):\n",
    "    p = re.compile(u\"[^a-zA-Z0-9\\u4e00-\\u9fa5]\")\n",
    "    line = p.sub(' ',line)\n",
    "    line = re.sub(' +', ' ', line)\n",
    "    test_data.append((id, text))"
   ]
  },
  {
   "cell_type": "code",
   "execution_count": 148,
   "metadata": {
    "ExecuteTime": {
     "end_time": "2019-09-05T06:03:16.824188Z",
     "start_time": "2019-09-05T06:03:15.646284Z"
    },
    "scrolled": true
   },
   "outputs": [],
   "source": [
    "sub_id = []\n",
    "sub_text = []\n",
    "sub_X1 = []\n",
    "sub_X2 = []\n",
    "for tuple_ in test_data:\n",
    "    sub_id.append(tuple_[0])\n",
    "    x1, x2 = tokenizer.encode(first=tuple_[1][:maxlen])\n",
    "    sub_X1.append(x1)\n",
    "    sub_X2.append(x2)\n",
    "    sub_text.append(tuple_[1])\n",
    "sub_X1 = keras.preprocessing.sequence.pad_sequences(maxlen=maxlen, sequences=sub_X1, padding=\"post\", value=0)\n",
    "sub_X2 = keras.preprocessing.sequence.pad_sequences(maxlen=maxlen, sequences=sub_X2, padding=\"post\", value=0)"
   ]
  },
  {
   "cell_type": "code",
   "execution_count": 149,
   "metadata": {
    "ExecuteTime": {
     "end_time": "2019-09-05T06:03:26.189620Z",
     "start_time": "2019-09-05T06:03:26.183664Z"
    }
   },
   "outputs": [],
   "source": [
    "bs = 64\n",
    "steps = len(sub_id) // bs\n",
    "if len(sub_id) % bs != 0:\n",
    "    steps += 1"
   ]
  },
  {
   "cell_type": "code",
   "execution_count": 150,
   "metadata": {
    "ExecuteTime": {
     "end_time": "2019-09-05T06:03:27.083217Z",
     "start_time": "2019-09-05T06:03:27.077359Z"
    }
   },
   "outputs": [
    {
     "data": {
      "text/plain": [
       "79"
      ]
     },
     "execution_count": 150,
     "metadata": {},
     "output_type": "execute_result"
    }
   ],
   "source": [
    "steps"
   ]
  },
  {
   "cell_type": "code",
   "execution_count": 151,
   "metadata": {
    "ExecuteTime": {
     "end_time": "2019-09-05T06:07:34.236994Z",
     "start_time": "2019-09-05T06:04:02.143078Z"
    }
   },
   "outputs": [
    {
     "name": "stderr",
     "output_type": "stream",
     "text": [
      "100%|██████████| 79/79 [03:32<00:00,  2.13s/it]\n"
     ]
    }
   ],
   "source": [
    "result_all = []\n",
    "for i in tqdm(range(steps)):\n",
    "    batch_id = sub_id[i*bs:(i+1)*bs]\n",
    "    batch_text = sub_text[i*bs:(i+1)*bs]\n",
    "    batch_X1 = sub_X1[i*bs:(i+1)*bs]\n",
    "    batch_X2 = sub_X2[i*bs:(i+1)*bs]\n",
    "    batch_pred = model.predict([batch_X1, batch_X2])\n",
    "    batch_pred = np.argmax(batch_pred, axis=-1).tolist()\n",
    "    for id, text, pred in zip(batch_id, batch_text, batch_pred):\n",
    "        pred_label = [idx2tag[i] for i in pred]\n",
    "        x_data = [c for c in text]\n",
    "        entity = get_entity(x_data, pred_label)\n",
    "        result_all.append((id, entity))"
   ]
  },
  {
   "cell_type": "code",
   "execution_count": 152,
   "metadata": {
    "ExecuteTime": {
     "end_time": "2019-09-05T06:07:34.246853Z",
     "start_time": "2019-09-05T06:07:34.241366Z"
    }
   },
   "outputs": [
    {
     "data": {
      "text/plain": [
       "4998"
      ]
     },
     "execution_count": 152,
     "metadata": {},
     "output_type": "execute_result"
    }
   ],
   "source": [
    "len(result_all)"
   ]
  },
  {
   "cell_type": "code",
   "execution_count": 153,
   "metadata": {
    "ExecuteTime": {
     "end_time": "2019-09-05T06:07:40.467863Z",
     "start_time": "2019-09-05T06:07:40.459499Z"
    }
   },
   "outputs": [
    {
     "data": {
      "text/plain": [
       "[('83dcefb7', '时空周转'),\n",
       " ('1ad5be0d', '羊毛党'),\n",
       " ('6dd28e9b', '住家创业 201'),\n",
       " ('f3b61b38', '➗CCM CCM'),\n",
       " ('84b12bae', ''),\n",
       " ('1db87a14', '富民宝 定活宝 富民银行'),\n",
       " ('6abf4a82', '\\u200b\\u200b\\u200b \\u200b\\u200b\\u200b\\u200b'),\n",
       " ('fa005713', '微信群 微信 微小宠'),\n",
       " ('8d076785', '\\u200b\\u200b 鼎诚创投'),\n",
       " ('a15d25e1', '青团社 ▌A 地平线')]"
      ]
     },
     "execution_count": 153,
     "metadata": {},
     "output_type": "execute_result"
    }
   ],
   "source": [
    "result_all[:10]"
   ]
  },
  {
   "cell_type": "code",
   "execution_count": 164,
   "metadata": {
    "ExecuteTime": {
     "end_time": "2019-09-05T06:14:34.891873Z",
     "start_time": "2019-09-05T06:14:34.882986Z"
    }
   },
   "outputs": [
    {
     "data": {
      "text/plain": [
       "[('b46ecefb', ''),\n",
       " ('2d679f41', 'APP 趣步 亦跑 链信'),\n",
       " ('5a60afd7', '明堂金融 景山 明堂期货'),\n",
       " ('c4043a74', '英皇金融 英皇金融国际'),\n",
       " ('b3030ae2', 'HUSDToken 火币钱包 火币'),\n",
       " ('2a0a5b58', '鲨鱼记账 网商万宝 网商'),\n",
       " ('5d0d6bce', '无限 华景城 华景无限逍遥卡 华景无限旅游 华景无限 华景无限逍'),\n",
       " ('cdb2765f', '臻鼎投资  国金中融 国金中融 臻鼎'),\n",
       " ('bab546c9', '顺德农商 中国中投 广东顺高投 欧浦小贷'),\n",
       " ('44f1e2a2', '易信easymarkets平台'),\n",
       " ('33f6d234', '美美 国美在线 国美控股 美美理财 国美 国美在线金融 美易'),\n",
       " ('aaff838e', 'P2 芒果金融'),\n",
       " ('ddf8b318', '之道 人人 云联惠 云商'),\n",
       " ('439c26bb', '神店 神店小'),\n",
       " ('349b162d', '华登 beta'),\n",
       " ('ad924797', ''),\n",
       " ('da957701', '喜牛  中 远特喜牛'),\n",
       " ('4a2a6a90', ''),\n",
       " ('3d2d5a06', '购房'),\n",
       " ('5dead3e3', ''),\n",
       " ('2aede375', '恩圣威NCY'),\n",
       " ('b3e4b2cf', '明堂金融 景山 明堂期货'),\n",
       " ('c4e38259', '洛阳百事通 百事通'),\n",
       " ('5a8717fa', '告 上银基金管 财网上银基金管理有限 2、上银基金管理有 致 上银基金管理有限 关于上银 上银基金管理 司 上银'),\n",
       " ('2d80276c', '源中瑞 深圳源中瑞科技'),\n",
       " ('b48976d6', '农科农业保险公司、农科融资租赁公司'),\n",
       " ('c38e4640', '恩圣威 艾拓思'),\n",
       " ('53315bd1', 'Finci芬吉'),\n",
       " ('24366b47', '爱汇宝'),\n",
       " ('3b453440', '赶街')]"
      ]
     },
     "execution_count": 164,
     "metadata": {},
     "output_type": "execute_result"
    }
   ],
   "source": [
    "result_all[-30:]"
   ]
  },
  {
   "cell_type": "code",
   "execution_count": 166,
   "metadata": {
    "ExecuteTime": {
     "end_time": "2019-09-05T06:19:30.326154Z",
     "start_time": "2019-09-05T06:19:30.316681Z"
    }
   },
   "outputs": [],
   "source": [
    "# 开始写规则\n",
    "def clean_ner(text):\n",
    "    # 不能匹配数字\n",
    "    text = re.sub(\"[0-9]\", \"\", text).strip()\n",
    "    # 不包含\\u200b\n",
    "    text = re.sub(\"\\\\u200b\", \"\", text).strip()\n",
    "    # 剔除\n",
    "    ner = []\n",
    "    for n in text.split(\" \"):\n",
    "        if len(n) > 1:\n",
    "            ner.append(n)\n",
    "    text = \";\".join(ner)\n",
    "    return text"
   ]
  },
  {
   "cell_type": "code",
   "execution_count": 167,
   "metadata": {
    "ExecuteTime": {
     "end_time": "2019-09-05T06:19:32.552909Z",
     "start_time": "2019-09-05T06:19:32.519213Z"
    }
   },
   "outputs": [],
   "source": [
    "l_res= []\n",
    "for i in result_all:\n",
    "    text = clean_ner(i[1])\n",
    "    l_res.append((i[0], text))"
   ]
  },
  {
   "cell_type": "code",
   "execution_count": 171,
   "metadata": {
    "ExecuteTime": {
     "end_time": "2019-09-05T06:23:03.955953Z",
     "start_time": "2019-09-05T06:23:03.947973Z"
    }
   },
   "outputs": [
    {
     "data": {
      "text/plain": [
       "[('83dcefb7', '时空周转'),\n",
       " ('1ad5be0d', '羊毛党'),\n",
       " ('6dd28e9b', '住家创业'),\n",
       " ('f3b61b38', '➗CCM;CCM'),\n",
       " ('84b12bae', ''),\n",
       " ('1db87a14', '富民宝;定活宝;富民银行'),\n",
       " ('6abf4a82', ''),\n",
       " ('fa005713', '微信群;微信;微小宠'),\n",
       " ('8d076785', '鼎诚创投'),\n",
       " ('a15d25e1', '青团社;▌A;地平线')]"
      ]
     },
     "execution_count": 171,
     "metadata": {},
     "output_type": "execute_result"
    }
   ],
   "source": [
    "l_res[:10]"
   ]
  },
  {
   "cell_type": "code",
   "execution_count": 172,
   "metadata": {
    "ExecuteTime": {
     "end_time": "2019-09-05T06:23:20.457884Z",
     "start_time": "2019-09-05T06:23:20.436811Z"
    }
   },
   "outputs": [],
   "source": [
    "with codecs.open(\"/home/wangwei/tf_workdir/word_detect/ww.csv\", \"w\", encoding=\"utf-8\") as f:\n",
    "    for i in l_res:\n",
    "        key = i[0]\n",
    "        value = i[1]\n",
    "        f.write(key+','+value+\"\\n\")"
   ]
  },
  {
   "cell_type": "code",
   "execution_count": null,
   "metadata": {},
   "outputs": [],
   "source": []
  }
 ],
 "metadata": {
  "kernelspec": {
   "display_name": "PyCharm (tfproject)",
   "language": "python",
   "name": "tf3"
  },
  "language_info": {
   "codemirror_mode": {
    "name": "ipython",
    "version": 3
   },
   "file_extension": ".py",
   "mimetype": "text/x-python",
   "name": "python",
   "nbconvert_exporter": "python",
   "pygments_lexer": "ipython3",
   "version": "3.5.6"
  },
  "toc": {
   "base_numbering": 1,
   "nav_menu": {},
   "number_sections": true,
   "sideBar": true,
   "skip_h1_title": false,
   "title_cell": "Table of Contents",
   "title_sidebar": "Contents",
   "toc_cell": false,
   "toc_position": {},
   "toc_section_display": true,
   "toc_window_display": true
  }
 },
 "nbformat": 4,
 "nbformat_minor": 2
}
